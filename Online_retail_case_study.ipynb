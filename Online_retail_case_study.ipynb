{
 "cells": [
  {
   "cell_type": "code",
   "execution_count": 1,
   "id": "21d63f00-b761-47ab-8273-747011ba9e4f",
   "metadata": {},
   "outputs": [],
   "source": [
    "import pandas as pd\n",
    "import numpy as np\n",
    "import matplotlib.pyplot as plt\n",
    "import datetime as dt\n",
    "import seaborn as sns\n",
    "import re\n",
    "\n",
    "# set the graphs to show in the jupyter notebook\n",
    "%matplotlib inline"
   ]
  },
  {
   "cell_type": "code",
   "execution_count": 2,
   "id": "a0026831-0289-4a4b-a446-ca685f313b26",
   "metadata": {},
   "outputs": [
    {
     "data": {
      "text/html": [
       "<div>\n",
       "<style scoped>\n",
       "    .dataframe tbody tr th:only-of-type {\n",
       "        vertical-align: middle;\n",
       "    }\n",
       "\n",
       "    .dataframe tbody tr th {\n",
       "        vertical-align: top;\n",
       "    }\n",
       "\n",
       "    .dataframe thead th {\n",
       "        text-align: right;\n",
       "    }\n",
       "</style>\n",
       "<table border=\"1\" class=\"dataframe\">\n",
       "  <thead>\n",
       "    <tr style=\"text-align: right;\">\n",
       "      <th></th>\n",
       "      <th>InvoiceNo</th>\n",
       "      <th>StockCode</th>\n",
       "      <th>Description</th>\n",
       "      <th>Quantity</th>\n",
       "      <th>InvoiceDate</th>\n",
       "      <th>UnitPrice</th>\n",
       "      <th>CustomerID</th>\n",
       "      <th>Country</th>\n",
       "    </tr>\n",
       "  </thead>\n",
       "  <tbody>\n",
       "    <tr>\n",
       "      <th>0</th>\n",
       "      <td>536365</td>\n",
       "      <td>85123A</td>\n",
       "      <td>WHITE HANGING HEART T-LIGHT HOLDER</td>\n",
       "      <td>6</td>\n",
       "      <td>2010-12-01 08:26:00</td>\n",
       "      <td>2.55</td>\n",
       "      <td>17850.0</td>\n",
       "      <td>United Kingdom</td>\n",
       "    </tr>\n",
       "    <tr>\n",
       "      <th>1</th>\n",
       "      <td>536365</td>\n",
       "      <td>71053</td>\n",
       "      <td>WHITE METAL LANTERN</td>\n",
       "      <td>6</td>\n",
       "      <td>2010-12-01 08:26:00</td>\n",
       "      <td>3.39</td>\n",
       "      <td>17850.0</td>\n",
       "      <td>United Kingdom</td>\n",
       "    </tr>\n",
       "    <tr>\n",
       "      <th>2</th>\n",
       "      <td>536365</td>\n",
       "      <td>84406B</td>\n",
       "      <td>CREAM CUPID HEARTS COAT HANGER</td>\n",
       "      <td>8</td>\n",
       "      <td>2010-12-01 08:26:00</td>\n",
       "      <td>2.75</td>\n",
       "      <td>17850.0</td>\n",
       "      <td>United Kingdom</td>\n",
       "    </tr>\n",
       "    <tr>\n",
       "      <th>3</th>\n",
       "      <td>536365</td>\n",
       "      <td>84029G</td>\n",
       "      <td>KNITTED UNION FLAG HOT WATER BOTTLE</td>\n",
       "      <td>6</td>\n",
       "      <td>2010-12-01 08:26:00</td>\n",
       "      <td>3.39</td>\n",
       "      <td>17850.0</td>\n",
       "      <td>United Kingdom</td>\n",
       "    </tr>\n",
       "    <tr>\n",
       "      <th>4</th>\n",
       "      <td>536365</td>\n",
       "      <td>84029E</td>\n",
       "      <td>RED WOOLLY HOTTIE WHITE HEART.</td>\n",
       "      <td>6</td>\n",
       "      <td>2010-12-01 08:26:00</td>\n",
       "      <td>3.39</td>\n",
       "      <td>17850.0</td>\n",
       "      <td>United Kingdom</td>\n",
       "    </tr>\n",
       "    <tr>\n",
       "      <th>...</th>\n",
       "      <td>...</td>\n",
       "      <td>...</td>\n",
       "      <td>...</td>\n",
       "      <td>...</td>\n",
       "      <td>...</td>\n",
       "      <td>...</td>\n",
       "      <td>...</td>\n",
       "      <td>...</td>\n",
       "    </tr>\n",
       "    <tr>\n",
       "      <th>541904</th>\n",
       "      <td>581587</td>\n",
       "      <td>22613</td>\n",
       "      <td>PACK OF 20 SPACEBOY NAPKINS</td>\n",
       "      <td>12</td>\n",
       "      <td>2011-12-09 12:50:00</td>\n",
       "      <td>0.85</td>\n",
       "      <td>12680.0</td>\n",
       "      <td>France</td>\n",
       "    </tr>\n",
       "    <tr>\n",
       "      <th>541905</th>\n",
       "      <td>581587</td>\n",
       "      <td>22899</td>\n",
       "      <td>CHILDREN'S APRON DOLLY GIRL</td>\n",
       "      <td>6</td>\n",
       "      <td>2011-12-09 12:50:00</td>\n",
       "      <td>2.10</td>\n",
       "      <td>12680.0</td>\n",
       "      <td>France</td>\n",
       "    </tr>\n",
       "    <tr>\n",
       "      <th>541906</th>\n",
       "      <td>581587</td>\n",
       "      <td>23254</td>\n",
       "      <td>CHILDRENS CUTLERY DOLLY GIRL</td>\n",
       "      <td>4</td>\n",
       "      <td>2011-12-09 12:50:00</td>\n",
       "      <td>4.15</td>\n",
       "      <td>12680.0</td>\n",
       "      <td>France</td>\n",
       "    </tr>\n",
       "    <tr>\n",
       "      <th>541907</th>\n",
       "      <td>581587</td>\n",
       "      <td>23255</td>\n",
       "      <td>CHILDRENS CUTLERY CIRCUS PARADE</td>\n",
       "      <td>4</td>\n",
       "      <td>2011-12-09 12:50:00</td>\n",
       "      <td>4.15</td>\n",
       "      <td>12680.0</td>\n",
       "      <td>France</td>\n",
       "    </tr>\n",
       "    <tr>\n",
       "      <th>541908</th>\n",
       "      <td>581587</td>\n",
       "      <td>22138</td>\n",
       "      <td>BAKING SET 9 PIECE RETROSPOT</td>\n",
       "      <td>3</td>\n",
       "      <td>2011-12-09 12:50:00</td>\n",
       "      <td>4.95</td>\n",
       "      <td>12680.0</td>\n",
       "      <td>France</td>\n",
       "    </tr>\n",
       "  </tbody>\n",
       "</table>\n",
       "<p>541909 rows × 8 columns</p>\n",
       "</div>"
      ],
      "text/plain": [
       "       InvoiceNo StockCode                          Description  Quantity  \\\n",
       "0         536365    85123A   WHITE HANGING HEART T-LIGHT HOLDER         6   \n",
       "1         536365     71053                  WHITE METAL LANTERN         6   \n",
       "2         536365    84406B       CREAM CUPID HEARTS COAT HANGER         8   \n",
       "3         536365    84029G  KNITTED UNION FLAG HOT WATER BOTTLE         6   \n",
       "4         536365    84029E       RED WOOLLY HOTTIE WHITE HEART.         6   \n",
       "...          ...       ...                                  ...       ...   \n",
       "541904    581587     22613          PACK OF 20 SPACEBOY NAPKINS        12   \n",
       "541905    581587     22899         CHILDREN'S APRON DOLLY GIRL          6   \n",
       "541906    581587     23254        CHILDRENS CUTLERY DOLLY GIRL          4   \n",
       "541907    581587     23255      CHILDRENS CUTLERY CIRCUS PARADE         4   \n",
       "541908    581587     22138        BAKING SET 9 PIECE RETROSPOT          3   \n",
       "\n",
       "               InvoiceDate  UnitPrice  CustomerID         Country  \n",
       "0      2010-12-01 08:26:00       2.55     17850.0  United Kingdom  \n",
       "1      2010-12-01 08:26:00       3.39     17850.0  United Kingdom  \n",
       "2      2010-12-01 08:26:00       2.75     17850.0  United Kingdom  \n",
       "3      2010-12-01 08:26:00       3.39     17850.0  United Kingdom  \n",
       "4      2010-12-01 08:26:00       3.39     17850.0  United Kingdom  \n",
       "...                    ...        ...         ...             ...  \n",
       "541904 2011-12-09 12:50:00       0.85     12680.0          France  \n",
       "541905 2011-12-09 12:50:00       2.10     12680.0          France  \n",
       "541906 2011-12-09 12:50:00       4.15     12680.0          France  \n",
       "541907 2011-12-09 12:50:00       4.15     12680.0          France  \n",
       "541908 2011-12-09 12:50:00       4.95     12680.0          France  \n",
       "\n",
       "[541909 rows x 8 columns]"
      ]
     },
     "execution_count": 2,
     "metadata": {},
     "output_type": "execute_result"
    }
   ],
   "source": [
    "ret = pd.read_excel('/Users/sabyamac/Documents/Online retail project/Online Retail.xlsx')\n",
    "ret"
   ]
  },
  {
   "cell_type": "markdown",
   "id": "f123c4be-ba46-4e1c-a537-e81ffe479915",
   "metadata": {},
   "source": [
    "## Basic data information"
   ]
  },
  {
   "cell_type": "code",
   "execution_count": 5,
   "id": "029d805e-1735-458b-9247-493631d620a4",
   "metadata": {},
   "outputs": [],
   "source": [
    "import time"
   ]
  },
  {
   "cell_type": "code",
   "execution_count": 7,
   "id": "22a45559-d6ff-42ed-8980-20be7d131941",
   "metadata": {},
   "outputs": [
    {
     "name": "stdout",
     "output_type": "stream",
     "text": [
      "<class 'pandas.core.frame.DataFrame'>\n",
      "RangeIndex: 541909 entries, 0 to 541908\n",
      "Data columns (total 8 columns):\n",
      " #   Column       Non-Null Count   Dtype         \n",
      "---  ------       --------------   -----         \n",
      " 0   InvoiceNo    541909 non-null  object        \n",
      " 1   StockCode    541909 non-null  object        \n",
      " 2   Description  540455 non-null  object        \n",
      " 3   Quantity     541909 non-null  int64         \n",
      " 4   InvoiceDate  541909 non-null  datetime64[ns]\n",
      " 5   UnitPrice    541909 non-null  float64       \n",
      " 6   CustomerID   406829 non-null  float64       \n",
      " 7   Country      541909 non-null  object        \n",
      "dtypes: datetime64[ns](1), float64(2), int64(1), object(4)\n",
      "memory usage: 33.1+ MB\n",
      "CPU times: user 60.2 ms, sys: 5.44 ms, total: 65.6 ms\n",
      "Wall time: 63 ms\n"
     ]
    }
   ],
   "source": [
    "%%time\n",
    "ret.info()"
   ]
  },
  {
   "cell_type": "code",
   "execution_count": 9,
   "id": "696f1103-ea28-4dc2-b17a-4da56cf9d74f",
   "metadata": {},
   "outputs": [
    {
     "data": {
      "text/html": [
       "<div>\n",
       "<style scoped>\n",
       "    .dataframe tbody tr th:only-of-type {\n",
       "        vertical-align: middle;\n",
       "    }\n",
       "\n",
       "    .dataframe tbody tr th {\n",
       "        vertical-align: top;\n",
       "    }\n",
       "\n",
       "    .dataframe thead th {\n",
       "        text-align: right;\n",
       "    }\n",
       "</style>\n",
       "<table border=\"1\" class=\"dataframe\">\n",
       "  <thead>\n",
       "    <tr style=\"text-align: right;\">\n",
       "      <th></th>\n",
       "      <th>InvoiceNo</th>\n",
       "      <th>StockCode</th>\n",
       "      <th>Description</th>\n",
       "      <th>Quantity</th>\n",
       "      <th>InvoiceDate</th>\n",
       "      <th>UnitPrice</th>\n",
       "      <th>CustomerID</th>\n",
       "      <th>Country</th>\n",
       "    </tr>\n",
       "  </thead>\n",
       "  <tbody>\n",
       "    <tr>\n",
       "      <th>0</th>\n",
       "      <td>536365</td>\n",
       "      <td>85123A</td>\n",
       "      <td>WHITE HANGING HEART T-LIGHT HOLDER</td>\n",
       "      <td>6</td>\n",
       "      <td>2010-12-01 08:26:00</td>\n",
       "      <td>2.55</td>\n",
       "      <td>17850.0</td>\n",
       "      <td>United Kingdom</td>\n",
       "    </tr>\n",
       "    <tr>\n",
       "      <th>1</th>\n",
       "      <td>536365</td>\n",
       "      <td>71053</td>\n",
       "      <td>WHITE METAL LANTERN</td>\n",
       "      <td>6</td>\n",
       "      <td>2010-12-01 08:26:00</td>\n",
       "      <td>3.39</td>\n",
       "      <td>17850.0</td>\n",
       "      <td>United Kingdom</td>\n",
       "    </tr>\n",
       "    <tr>\n",
       "      <th>2</th>\n",
       "      <td>536365</td>\n",
       "      <td>84406B</td>\n",
       "      <td>CREAM CUPID HEARTS COAT HANGER</td>\n",
       "      <td>8</td>\n",
       "      <td>2010-12-01 08:26:00</td>\n",
       "      <td>2.75</td>\n",
       "      <td>17850.0</td>\n",
       "      <td>United Kingdom</td>\n",
       "    </tr>\n",
       "    <tr>\n",
       "      <th>3</th>\n",
       "      <td>536365</td>\n",
       "      <td>84029G</td>\n",
       "      <td>KNITTED UNION FLAG HOT WATER BOTTLE</td>\n",
       "      <td>6</td>\n",
       "      <td>2010-12-01 08:26:00</td>\n",
       "      <td>3.39</td>\n",
       "      <td>17850.0</td>\n",
       "      <td>United Kingdom</td>\n",
       "    </tr>\n",
       "    <tr>\n",
       "      <th>4</th>\n",
       "      <td>536365</td>\n",
       "      <td>84029E</td>\n",
       "      <td>RED WOOLLY HOTTIE WHITE HEART.</td>\n",
       "      <td>6</td>\n",
       "      <td>2010-12-01 08:26:00</td>\n",
       "      <td>3.39</td>\n",
       "      <td>17850.0</td>\n",
       "      <td>United Kingdom</td>\n",
       "    </tr>\n",
       "  </tbody>\n",
       "</table>\n",
       "</div>"
      ],
      "text/plain": [
       "  InvoiceNo StockCode                          Description  Quantity  \\\n",
       "0    536365    85123A   WHITE HANGING HEART T-LIGHT HOLDER         6   \n",
       "1    536365     71053                  WHITE METAL LANTERN         6   \n",
       "2    536365    84406B       CREAM CUPID HEARTS COAT HANGER         8   \n",
       "3    536365    84029G  KNITTED UNION FLAG HOT WATER BOTTLE         6   \n",
       "4    536365    84029E       RED WOOLLY HOTTIE WHITE HEART.         6   \n",
       "\n",
       "          InvoiceDate  UnitPrice  CustomerID         Country  \n",
       "0 2010-12-01 08:26:00       2.55     17850.0  United Kingdom  \n",
       "1 2010-12-01 08:26:00       3.39     17850.0  United Kingdom  \n",
       "2 2010-12-01 08:26:00       2.75     17850.0  United Kingdom  \n",
       "3 2010-12-01 08:26:00       3.39     17850.0  United Kingdom  \n",
       "4 2010-12-01 08:26:00       3.39     17850.0  United Kingdom  "
      ]
     },
     "execution_count": 9,
     "metadata": {},
     "output_type": "execute_result"
    }
   ],
   "source": [
    "ret.head(5)"
   ]
  },
  {
   "cell_type": "code",
   "execution_count": 10,
   "id": "4f977b73-519d-41cb-8194-1fdf9794539a",
   "metadata": {},
   "outputs": [
    {
     "data": {
      "text/plain": [
       "(25900, 4070, 4223, 4372, 38)"
      ]
     },
     "execution_count": 10,
     "metadata": {},
     "output_type": "execute_result"
    }
   ],
   "source": [
    "ret.InvoiceNo.nunique(), ret.StockCode.nunique(), ret.Description.nunique(), ret.CustomerID.nunique(), ret.Country.nunique()"
   ]
  },
  {
   "cell_type": "code",
   "execution_count": 11,
   "id": "b5882aab-f1da-403c-b78e-2add43d52411",
   "metadata": {},
   "outputs": [
    {
     "data": {
      "text/plain": [
       "Country\n",
       "United Kingdom          495478\n",
       "Germany                   9495\n",
       "France                    8557\n",
       "EIRE                      8196\n",
       "Spain                     2533\n",
       "Netherlands               2371\n",
       "Belgium                   2069\n",
       "Switzerland               2002\n",
       "Portugal                  1519\n",
       "Australia                 1259\n",
       "Norway                    1086\n",
       "Italy                      803\n",
       "Channel Islands            758\n",
       "Finland                    695\n",
       "Cyprus                     622\n",
       "Sweden                     462\n",
       "Unspecified                446\n",
       "Austria                    401\n",
       "Denmark                    389\n",
       "Japan                      358\n",
       "Poland                     341\n",
       "Israel                     297\n",
       "USA                        291\n",
       "Hong Kong                  288\n",
       "Singapore                  229\n",
       "Iceland                    182\n",
       "Canada                     151\n",
       "Greece                     146\n",
       "Malta                      127\n",
       "United Arab Emirates        68\n",
       "European Community          61\n",
       "RSA                         58\n",
       "Lebanon                     45\n",
       "Lithuania                   35\n",
       "Brazil                      32\n",
       "Czech Republic              30\n",
       "Bahrain                     19\n",
       "Saudi Arabia                10\n",
       "Name: count, dtype: int64"
      ]
     },
     "execution_count": 11,
     "metadata": {},
     "output_type": "execute_result"
    }
   ],
   "source": [
    "ret.Country.value_counts()"
   ]
  },
  {
   "cell_type": "code",
   "execution_count": null,
   "id": "47e3fc17-f46b-478c-a07d-11ec00f2bb88",
   "metadata": {},
   "outputs": [],
   "source": []
  },
  {
   "cell_type": "markdown",
   "id": "4839ace0-6d5b-4a49-abf4-d159c3dd9385",
   "metadata": {},
   "source": [
    "## Sales performance analysis"
   ]
  },
  {
   "cell_type": "code",
   "execution_count": 13,
   "id": "4d8bc1c3-6e52-4689-896c-4f84637775e1",
   "metadata": {},
   "outputs": [],
   "source": [
    "ret[ 'Year' ] = ret.InvoiceDate.apply( lambda x: x.year )\n",
    "ret[ 'month' ] = ret.InvoiceDate.apply( lambda x: x.month )"
   ]
  },
  {
   "cell_type": "code",
   "execution_count": 14,
   "id": "3584d60c-2ed8-4d32-a71a-4a42784be444",
   "metadata": {},
   "outputs": [
    {
     "data": {
      "text/html": [
       "<div>\n",
       "<style scoped>\n",
       "    .dataframe tbody tr th:only-of-type {\n",
       "        vertical-align: middle;\n",
       "    }\n",
       "\n",
       "    .dataframe tbody tr th {\n",
       "        vertical-align: top;\n",
       "    }\n",
       "\n",
       "    .dataframe thead th {\n",
       "        text-align: right;\n",
       "    }\n",
       "</style>\n",
       "<table border=\"1\" class=\"dataframe\">\n",
       "  <thead>\n",
       "    <tr style=\"text-align: right;\">\n",
       "      <th></th>\n",
       "      <th>InvoiceNo</th>\n",
       "      <th>StockCode</th>\n",
       "      <th>Description</th>\n",
       "      <th>Quantity</th>\n",
       "      <th>InvoiceDate</th>\n",
       "      <th>UnitPrice</th>\n",
       "      <th>CustomerID</th>\n",
       "      <th>Country</th>\n",
       "      <th>Year</th>\n",
       "      <th>month</th>\n",
       "    </tr>\n",
       "  </thead>\n",
       "  <tbody>\n",
       "    <tr>\n",
       "      <th>0</th>\n",
       "      <td>536365</td>\n",
       "      <td>85123A</td>\n",
       "      <td>WHITE HANGING HEART T-LIGHT HOLDER</td>\n",
       "      <td>6</td>\n",
       "      <td>2010-12-01 08:26:00</td>\n",
       "      <td>2.55</td>\n",
       "      <td>17850.0</td>\n",
       "      <td>United Kingdom</td>\n",
       "      <td>2010</td>\n",
       "      <td>12</td>\n",
       "    </tr>\n",
       "    <tr>\n",
       "      <th>1</th>\n",
       "      <td>536365</td>\n",
       "      <td>71053</td>\n",
       "      <td>WHITE METAL LANTERN</td>\n",
       "      <td>6</td>\n",
       "      <td>2010-12-01 08:26:00</td>\n",
       "      <td>3.39</td>\n",
       "      <td>17850.0</td>\n",
       "      <td>United Kingdom</td>\n",
       "      <td>2010</td>\n",
       "      <td>12</td>\n",
       "    </tr>\n",
       "    <tr>\n",
       "      <th>2</th>\n",
       "      <td>536365</td>\n",
       "      <td>84406B</td>\n",
       "      <td>CREAM CUPID HEARTS COAT HANGER</td>\n",
       "      <td>8</td>\n",
       "      <td>2010-12-01 08:26:00</td>\n",
       "      <td>2.75</td>\n",
       "      <td>17850.0</td>\n",
       "      <td>United Kingdom</td>\n",
       "      <td>2010</td>\n",
       "      <td>12</td>\n",
       "    </tr>\n",
       "    <tr>\n",
       "      <th>3</th>\n",
       "      <td>536365</td>\n",
       "      <td>84029G</td>\n",
       "      <td>KNITTED UNION FLAG HOT WATER BOTTLE</td>\n",
       "      <td>6</td>\n",
       "      <td>2010-12-01 08:26:00</td>\n",
       "      <td>3.39</td>\n",
       "      <td>17850.0</td>\n",
       "      <td>United Kingdom</td>\n",
       "      <td>2010</td>\n",
       "      <td>12</td>\n",
       "    </tr>\n",
       "    <tr>\n",
       "      <th>4</th>\n",
       "      <td>536365</td>\n",
       "      <td>84029E</td>\n",
       "      <td>RED WOOLLY HOTTIE WHITE HEART.</td>\n",
       "      <td>6</td>\n",
       "      <td>2010-12-01 08:26:00</td>\n",
       "      <td>3.39</td>\n",
       "      <td>17850.0</td>\n",
       "      <td>United Kingdom</td>\n",
       "      <td>2010</td>\n",
       "      <td>12</td>\n",
       "    </tr>\n",
       "  </tbody>\n",
       "</table>\n",
       "</div>"
      ],
      "text/plain": [
       "  InvoiceNo StockCode                          Description  Quantity  \\\n",
       "0    536365    85123A   WHITE HANGING HEART T-LIGHT HOLDER         6   \n",
       "1    536365     71053                  WHITE METAL LANTERN         6   \n",
       "2    536365    84406B       CREAM CUPID HEARTS COAT HANGER         8   \n",
       "3    536365    84029G  KNITTED UNION FLAG HOT WATER BOTTLE         6   \n",
       "4    536365    84029E       RED WOOLLY HOTTIE WHITE HEART.         6   \n",
       "\n",
       "          InvoiceDate  UnitPrice  CustomerID         Country  Year  month  \n",
       "0 2010-12-01 08:26:00       2.55     17850.0  United Kingdom  2010     12  \n",
       "1 2010-12-01 08:26:00       3.39     17850.0  United Kingdom  2010     12  \n",
       "2 2010-12-01 08:26:00       2.75     17850.0  United Kingdom  2010     12  \n",
       "3 2010-12-01 08:26:00       3.39     17850.0  United Kingdom  2010     12  \n",
       "4 2010-12-01 08:26:00       3.39     17850.0  United Kingdom  2010     12  "
      ]
     },
     "execution_count": 14,
     "metadata": {},
     "output_type": "execute_result"
    }
   ],
   "source": [
    "ret.head()"
   ]
  },
  {
   "cell_type": "code",
   "execution_count": 15,
   "id": "84225965-be40-4190-a11f-20b25d2ceee8",
   "metadata": {},
   "outputs": [],
   "source": [
    "ret[ 'week' ] = ret.InvoiceDate.apply( lambda x: x.week)"
   ]
  },
  {
   "cell_type": "code",
   "execution_count": 16,
   "id": "4b949ee2-a001-4fae-8605-d19a32d75fe5",
   "metadata": {},
   "outputs": [
    {
     "data": {
      "text/plain": [
       "(Timestamp('2011-12-09 12:50:00'), Timestamp('2010-12-01 08:26:00'))"
      ]
     },
     "execution_count": 16,
     "metadata": {},
     "output_type": "execute_result"
    }
   ],
   "source": [
    "ret.InvoiceDate.max(), ret.InvoiceDate.min()"
   ]
  },
  {
   "cell_type": "code",
   "execution_count": 17,
   "id": "b599bbcf-e262-440d-ab03-6b0a0e203c91",
   "metadata": {},
   "outputs": [],
   "source": [
    "ret[ 'amt' ] = ret.Quantity*ret.UnitPrice"
   ]
  },
  {
   "cell_type": "markdown",
   "id": "ec4d9593-f6c1-4bca-8f77-b7d359df8b63",
   "metadata": {},
   "source": [
    "### Monthly sales"
   ]
  },
  {
   "cell_type": "code",
   "execution_count": 19,
   "id": "999e7628-bd0e-46de-9f78-704935a3494b",
   "metadata": {},
   "outputs": [
    {
     "data": {
      "text/plain": [
       "<Axes: ylabel='Year,month'>"
      ]
     },
     "execution_count": 19,
     "metadata": {},
     "output_type": "execute_result"
    },
    {
     "data": {
      "image/png": "[encoded data removed]",
      "text/plain": [
       "<Figure size 640x480 with 1 Axes>"
      ]
     },
     "metadata": {},
     "output_type": "display_data"
    }
   ],
   "source": [
    "ret.groupby( [ 'Year', 'month' ] ).amt.sum().plot( kind = 'barh')"
   ]
  },
  {
   "cell_type": "markdown",
   "id": "feec806e-161d-4064-845f-efcb5a1ff9ac",
   "metadata": {},
   "source": [
    "### Weekly sales"
   ]
  },
  {
   "cell_type": "code",
   "execution_count": 21,
   "id": "881e3547-3b45-43f0-a2cb-163ef6641a24",
   "metadata": {},
   "outputs": [
    {
     "data": {
      "text/plain": [
       "<Axes: xlabel='Year,month,week'>"
      ]
     },
     "execution_count": 21,
     "metadata": {},
     "output_type": "execute_result"
    },
    {
     "data": {
      "image/png": "[encoded data removed]",
      "text/plain": [
       "<Figure size 640x480 with 1 Axes>"
      ]
     },
     "metadata": {},
     "output_type": "display_data"
    }
   ],
   "source": [
    "ret.groupby( [ 'Year', 'month', 'week' ] ).amt.sum().plot( kind = 'line')"
   ]
  },
  {
   "cell_type": "markdown",
   "id": "02564a5d-4cdc-4c69-b20e-3b2d77d02795",
   "metadata": {},
   "source": [
    "### Top performing products"
   ]
  },
  {
   "cell_type": "code",
   "execution_count": 23,
   "id": "f29f4585-c3f6-487e-b017-6d4bb870be73",
   "metadata": {},
   "outputs": [
    {
     "data": {
      "text/plain": [
       "StockCode\n",
       "DOT             206245.480\n",
       "22423           164762.190\n",
       "47566            98302.980\n",
       "85123A           97894.500\n",
       "85099B           92356.030\n",
       "                   ...    \n",
       "BANK CHARGES     -7175.639\n",
       "CRUK             -7933.430\n",
       "B               -11062.060\n",
       "M               -68674.190\n",
       "AMAZONFEE      -221520.500\n",
       "Name: amt, Length: 4070, dtype: float64"
      ]
     },
     "execution_count": 23,
     "metadata": {},
     "output_type": "execute_result"
    }
   ],
   "source": [
    "ret.groupby( [ 'StockCode'] ).amt.sum().sort_values( ascending = False)"
   ]
  },
  {
   "cell_type": "code",
   "execution_count": 24,
   "id": "eb13a814-9d53-4948-9aeb-b8147abf68b7",
   "metadata": {},
   "outputs": [
    {
     "data": {
      "text/html": [
       "<div>\n",
       "<style scoped>\n",
       "    .dataframe tbody tr th:only-of-type {\n",
       "        vertical-align: middle;\n",
       "    }\n",
       "\n",
       "    .dataframe tbody tr th {\n",
       "        vertical-align: top;\n",
       "    }\n",
       "\n",
       "    .dataframe thead th {\n",
       "        text-align: right;\n",
       "    }\n",
       "</style>\n",
       "<table border=\"1\" class=\"dataframe\">\n",
       "  <thead>\n",
       "    <tr style=\"text-align: right;\">\n",
       "      <th></th>\n",
       "      <th>InvoiceNo</th>\n",
       "      <th>StockCode</th>\n",
       "      <th>Description</th>\n",
       "      <th>Quantity</th>\n",
       "      <th>InvoiceDate</th>\n",
       "      <th>UnitPrice</th>\n",
       "      <th>CustomerID</th>\n",
       "      <th>Country</th>\n",
       "      <th>Year</th>\n",
       "      <th>month</th>\n",
       "      <th>week</th>\n",
       "      <th>amt</th>\n",
       "    </tr>\n",
       "  </thead>\n",
       "  <tbody>\n",
       "    <tr>\n",
       "      <th>1814</th>\n",
       "      <td>536544</td>\n",
       "      <td>DOT</td>\n",
       "      <td>DOTCOM POSTAGE</td>\n",
       "      <td>1</td>\n",
       "      <td>2010-12-01 14:32:00</td>\n",
       "      <td>569.77</td>\n",
       "      <td>NaN</td>\n",
       "      <td>United Kingdom</td>\n",
       "      <td>2010</td>\n",
       "      <td>12</td>\n",
       "      <td>48</td>\n",
       "      <td>569.77</td>\n",
       "    </tr>\n",
       "    <tr>\n",
       "      <th>3041</th>\n",
       "      <td>536592</td>\n",
       "      <td>DOT</td>\n",
       "      <td>DOTCOM POSTAGE</td>\n",
       "      <td>1</td>\n",
       "      <td>2010-12-01 17:06:00</td>\n",
       "      <td>607.49</td>\n",
       "      <td>NaN</td>\n",
       "      <td>United Kingdom</td>\n",
       "      <td>2010</td>\n",
       "      <td>12</td>\n",
       "      <td>48</td>\n",
       "      <td>607.49</td>\n",
       "    </tr>\n",
       "    <tr>\n",
       "      <th>5450</th>\n",
       "      <td>536862</td>\n",
       "      <td>DOT</td>\n",
       "      <td>DOTCOM POSTAGE</td>\n",
       "      <td>1</td>\n",
       "      <td>2010-12-03 11:13:00</td>\n",
       "      <td>254.43</td>\n",
       "      <td>NaN</td>\n",
       "      <td>United Kingdom</td>\n",
       "      <td>2010</td>\n",
       "      <td>12</td>\n",
       "      <td>48</td>\n",
       "      <td>254.43</td>\n",
       "    </tr>\n",
       "    <tr>\n",
       "      <th>5545</th>\n",
       "      <td>536864</td>\n",
       "      <td>DOT</td>\n",
       "      <td>DOTCOM POSTAGE</td>\n",
       "      <td>1</td>\n",
       "      <td>2010-12-03 11:27:00</td>\n",
       "      <td>121.06</td>\n",
       "      <td>NaN</td>\n",
       "      <td>United Kingdom</td>\n",
       "      <td>2010</td>\n",
       "      <td>12</td>\n",
       "      <td>48</td>\n",
       "      <td>121.06</td>\n",
       "    </tr>\n",
       "    <tr>\n",
       "      <th>5685</th>\n",
       "      <td>536865</td>\n",
       "      <td>DOT</td>\n",
       "      <td>DOTCOM POSTAGE</td>\n",
       "      <td>1</td>\n",
       "      <td>2010-12-03 11:28:00</td>\n",
       "      <td>498.47</td>\n",
       "      <td>NaN</td>\n",
       "      <td>United Kingdom</td>\n",
       "      <td>2010</td>\n",
       "      <td>12</td>\n",
       "      <td>48</td>\n",
       "      <td>498.47</td>\n",
       "    </tr>\n",
       "  </tbody>\n",
       "</table>\n",
       "</div>"
      ],
      "text/plain": [
       "     InvoiceNo StockCode     Description  Quantity         InvoiceDate  \\\n",
       "1814    536544       DOT  DOTCOM POSTAGE         1 2010-12-01 14:32:00   \n",
       "3041    536592       DOT  DOTCOM POSTAGE         1 2010-12-01 17:06:00   \n",
       "5450    536862       DOT  DOTCOM POSTAGE         1 2010-12-03 11:13:00   \n",
       "5545    536864       DOT  DOTCOM POSTAGE         1 2010-12-03 11:27:00   \n",
       "5685    536865       DOT  DOTCOM POSTAGE         1 2010-12-03 11:28:00   \n",
       "\n",
       "      UnitPrice  CustomerID         Country  Year  month  week     amt  \n",
       "1814     569.77         NaN  United Kingdom  2010     12    48  569.77  \n",
       "3041     607.49         NaN  United Kingdom  2010     12    48  607.49  \n",
       "5450     254.43         NaN  United Kingdom  2010     12    48  254.43  \n",
       "5545     121.06         NaN  United Kingdom  2010     12    48  121.06  \n",
       "5685     498.47         NaN  United Kingdom  2010     12    48  498.47  "
      ]
     },
     "execution_count": 24,
     "metadata": {},
     "output_type": "execute_result"
    }
   ],
   "source": [
    "ret.loc[ ret.StockCode == 'DOT'].head()"
   ]
  },
  {
   "cell_type": "code",
   "execution_count": 25,
   "id": "5ce958fd-f15a-4cf6-a625-26df33a1f91a",
   "metadata": {},
   "outputs": [
    {
     "data": {
      "text/plain": [
       "<Axes: ylabel='StockCode,Description'>"
      ]
     },
     "execution_count": 25,
     "metadata": {},
     "output_type": "execute_result"
    },
    {
     "data": {
      "image/png": "[encoded data removed]",
      "text/plain": [
       "<Figure size 640x480 with 1 Axes>"
      ]
     },
     "metadata": {},
     "output_type": "display_data"
    }
   ],
   "source": [
    "ret.loc[ ret.StockCode != 'DOT' ].groupby( [ 'StockCode', 'Description'] ).amt.sum().sort_values( \n",
    "                                                                        ascending = False).head(5).plot( kind = 'barh')"
   ]
  },
  {
   "cell_type": "code",
   "execution_count": null,
   "id": "dc2ac0d4-7663-4fbd-aa93-67411abc6de8",
   "metadata": {},
   "outputs": [],
   "source": []
  },
  {
   "cell_type": "code",
   "execution_count": 26,
   "id": "dccffaea-435e-409d-9868-cb3df59d9e9b",
   "metadata": {},
   "outputs": [],
   "source": [
    "# ret.loc[ ret.StockCode != 'DOT' ].groupby( [ 'Year', 'month', 'StockCode', 'Description' ], as_index = True ).agg( Amount = ( 'amt', 'sum' ),\n",
    "#                                                                                                   Unitprice = ( 'UnitPrice', 'max'),\n",
    "#                                                                                                   Qty = ( 'Quantity', 'sum')\n",
    "#                                                                                                   )"
   ]
  },
  {
   "cell_type": "markdown",
   "id": "3d9c8e17-91fb-41fa-868b-3207b7155b2e",
   "metadata": {},
   "source": [
    "### Top performing customers"
   ]
  },
  {
   "cell_type": "code",
   "execution_count": 28,
   "id": "efff05fa-8158-4139-bc1c-f8aa91a31862",
   "metadata": {},
   "outputs": [
    {
     "data": {
      "text/plain": [
       "<Axes: ylabel='CustomerID,Country'>"
      ]
     },
     "execution_count": 28,
     "metadata": {},
     "output_type": "execute_result"
    },
    {
     "data": {
      "image/png": "[encoded data removed]",
      "text/plain": [
       "<Figure size 640x480 with 1 Axes>"
      ]
     },
     "metadata": {},
     "output_type": "display_data"
    }
   ],
   "source": [
    "ret.groupby( [ 'CustomerID', 'Country'] ).agg( Purchase = ( 'amt', 'sum') ).sort_values( by = 'Purchase', \n",
    "                                                                                        ascending = False).head().plot( kind = 'barh')"
   ]
  },
  {
   "cell_type": "code",
   "execution_count": null,
   "id": "fc54fc41-01c9-4829-b12e-552322542aa4",
   "metadata": {},
   "outputs": [],
   "source": []
  },
  {
   "cell_type": "markdown",
   "id": "81dc1fab-464f-4052-b964-24d3038206fc",
   "metadata": {},
   "source": [
    "## Customer Behaviour analysis"
   ]
  },
  {
   "cell_type": "code",
   "execution_count": 30,
   "id": "787a5114-b870-4168-b545-9e051bd0ca5c",
   "metadata": {},
   "outputs": [
    {
     "data": {
      "text/html": [
       "<div>\n",
       "<style scoped>\n",
       "    .dataframe tbody tr th:only-of-type {\n",
       "        vertical-align: middle;\n",
       "    }\n",
       "\n",
       "    .dataframe tbody tr th {\n",
       "        vertical-align: top;\n",
       "    }\n",
       "\n",
       "    .dataframe thead th {\n",
       "        text-align: right;\n",
       "    }\n",
       "</style>\n",
       "<table border=\"1\" class=\"dataframe\">\n",
       "  <thead>\n",
       "    <tr style=\"text-align: right;\">\n",
       "      <th></th>\n",
       "      <th>InvoiceNo</th>\n",
       "      <th>StockCode</th>\n",
       "      <th>Description</th>\n",
       "      <th>Quantity</th>\n",
       "      <th>InvoiceDate</th>\n",
       "      <th>UnitPrice</th>\n",
       "      <th>CustomerID</th>\n",
       "      <th>Country</th>\n",
       "      <th>Year</th>\n",
       "      <th>month</th>\n",
       "      <th>week</th>\n",
       "      <th>amt</th>\n",
       "    </tr>\n",
       "  </thead>\n",
       "  <tbody>\n",
       "    <tr>\n",
       "      <th>0</th>\n",
       "      <td>536365</td>\n",
       "      <td>85123A</td>\n",
       "      <td>WHITE HANGING HEART T-LIGHT HOLDER</td>\n",
       "      <td>6</td>\n",
       "      <td>2010-12-01 08:26:00</td>\n",
       "      <td>2.55</td>\n",
       "      <td>17850.0</td>\n",
       "      <td>United Kingdom</td>\n",
       "      <td>2010</td>\n",
       "      <td>12</td>\n",
       "      <td>48</td>\n",
       "      <td>15.30</td>\n",
       "    </tr>\n",
       "    <tr>\n",
       "      <th>1</th>\n",
       "      <td>536365</td>\n",
       "      <td>71053</td>\n",
       "      <td>WHITE METAL LANTERN</td>\n",
       "      <td>6</td>\n",
       "      <td>2010-12-01 08:26:00</td>\n",
       "      <td>3.39</td>\n",
       "      <td>17850.0</td>\n",
       "      <td>United Kingdom</td>\n",
       "      <td>2010</td>\n",
       "      <td>12</td>\n",
       "      <td>48</td>\n",
       "      <td>20.34</td>\n",
       "    </tr>\n",
       "    <tr>\n",
       "      <th>2</th>\n",
       "      <td>536365</td>\n",
       "      <td>84406B</td>\n",
       "      <td>CREAM CUPID HEARTS COAT HANGER</td>\n",
       "      <td>8</td>\n",
       "      <td>2010-12-01 08:26:00</td>\n",
       "      <td>2.75</td>\n",
       "      <td>17850.0</td>\n",
       "      <td>United Kingdom</td>\n",
       "      <td>2010</td>\n",
       "      <td>12</td>\n",
       "      <td>48</td>\n",
       "      <td>22.00</td>\n",
       "    </tr>\n",
       "    <tr>\n",
       "      <th>3</th>\n",
       "      <td>536365</td>\n",
       "      <td>84029G</td>\n",
       "      <td>KNITTED UNION FLAG HOT WATER BOTTLE</td>\n",
       "      <td>6</td>\n",
       "      <td>2010-12-01 08:26:00</td>\n",
       "      <td>3.39</td>\n",
       "      <td>17850.0</td>\n",
       "      <td>United Kingdom</td>\n",
       "      <td>2010</td>\n",
       "      <td>12</td>\n",
       "      <td>48</td>\n",
       "      <td>20.34</td>\n",
       "    </tr>\n",
       "    <tr>\n",
       "      <th>4</th>\n",
       "      <td>536365</td>\n",
       "      <td>84029E</td>\n",
       "      <td>RED WOOLLY HOTTIE WHITE HEART.</td>\n",
       "      <td>6</td>\n",
       "      <td>2010-12-01 08:26:00</td>\n",
       "      <td>3.39</td>\n",
       "      <td>17850.0</td>\n",
       "      <td>United Kingdom</td>\n",
       "      <td>2010</td>\n",
       "      <td>12</td>\n",
       "      <td>48</td>\n",
       "      <td>20.34</td>\n",
       "    </tr>\n",
       "  </tbody>\n",
       "</table>\n",
       "</div>"
      ],
      "text/plain": [
       "  InvoiceNo StockCode                          Description  Quantity  \\\n",
       "0    536365    85123A   WHITE HANGING HEART T-LIGHT HOLDER         6   \n",
       "1    536365     71053                  WHITE METAL LANTERN         6   \n",
       "2    536365    84406B       CREAM CUPID HEARTS COAT HANGER         8   \n",
       "3    536365    84029G  KNITTED UNION FLAG HOT WATER BOTTLE         6   \n",
       "4    536365    84029E       RED WOOLLY HOTTIE WHITE HEART.         6   \n",
       "\n",
       "          InvoiceDate  UnitPrice  CustomerID         Country  Year  month  \\\n",
       "0 2010-12-01 08:26:00       2.55     17850.0  United Kingdom  2010     12   \n",
       "1 2010-12-01 08:26:00       3.39     17850.0  United Kingdom  2010     12   \n",
       "2 2010-12-01 08:26:00       2.75     17850.0  United Kingdom  2010     12   \n",
       "3 2010-12-01 08:26:00       3.39     17850.0  United Kingdom  2010     12   \n",
       "4 2010-12-01 08:26:00       3.39     17850.0  United Kingdom  2010     12   \n",
       "\n",
       "   week    amt  \n",
       "0    48  15.30  \n",
       "1    48  20.34  \n",
       "2    48  22.00  \n",
       "3    48  20.34  \n",
       "4    48  20.34  "
      ]
     },
     "execution_count": 30,
     "metadata": {},
     "output_type": "execute_result"
    }
   ],
   "source": [
    "ret.head()"
   ]
  },
  {
   "cell_type": "code",
   "execution_count": 31,
   "id": "994cfdde-74eb-49a4-ba68-c5b417b8091e",
   "metadata": {},
   "outputs": [
    {
     "data": {
      "text/html": [
       "<div>\n",
       "<style scoped>\n",
       "    .dataframe tbody tr th:only-of-type {\n",
       "        vertical-align: middle;\n",
       "    }\n",
       "\n",
       "    .dataframe tbody tr th {\n",
       "        vertical-align: top;\n",
       "    }\n",
       "\n",
       "    .dataframe thead th {\n",
       "        text-align: right;\n",
       "    }\n",
       "</style>\n",
       "<table border=\"1\" class=\"dataframe\">\n",
       "  <thead>\n",
       "    <tr style=\"text-align: right;\">\n",
       "      <th></th>\n",
       "      <th>Bills</th>\n",
       "      <th>Billdates</th>\n",
       "      <th>Purchase</th>\n",
       "    </tr>\n",
       "    <tr>\n",
       "      <th>CustomerID</th>\n",
       "      <th></th>\n",
       "      <th></th>\n",
       "      <th></th>\n",
       "    </tr>\n",
       "  </thead>\n",
       "  <tbody>\n",
       "    <tr>\n",
       "      <th>14911.0</th>\n",
       "      <td>248</td>\n",
       "      <td>248</td>\n",
       "      <td>132572.62</td>\n",
       "    </tr>\n",
       "    <tr>\n",
       "      <th>12748.0</th>\n",
       "      <td>224</td>\n",
       "      <td>225</td>\n",
       "      <td>29072.10</td>\n",
       "    </tr>\n",
       "    <tr>\n",
       "      <th>17841.0</th>\n",
       "      <td>169</td>\n",
       "      <td>168</td>\n",
       "      <td>40340.78</td>\n",
       "    </tr>\n",
       "    <tr>\n",
       "      <th>14606.0</th>\n",
       "      <td>128</td>\n",
       "      <td>129</td>\n",
       "      <td>11713.85</td>\n",
       "    </tr>\n",
       "    <tr>\n",
       "      <th>13089.0</th>\n",
       "      <td>118</td>\n",
       "      <td>114</td>\n",
       "      <td>57385.88</td>\n",
       "    </tr>\n",
       "    <tr>\n",
       "      <th>...</th>\n",
       "      <td>...</td>\n",
       "      <td>...</td>\n",
       "      <td>...</td>\n",
       "    </tr>\n",
       "    <tr>\n",
       "      <th>13877.0</th>\n",
       "      <td>1</td>\n",
       "      <td>1</td>\n",
       "      <td>117.24</td>\n",
       "    </tr>\n",
       "    <tr>\n",
       "      <th>16400.0</th>\n",
       "      <td>1</td>\n",
       "      <td>1</td>\n",
       "      <td>303.93</td>\n",
       "    </tr>\n",
       "    <tr>\n",
       "      <th>13878.0</th>\n",
       "      <td>1</td>\n",
       "      <td>1</td>\n",
       "      <td>1281.53</td>\n",
       "    </tr>\n",
       "    <tr>\n",
       "      <th>13886.0</th>\n",
       "      <td>1</td>\n",
       "      <td>1</td>\n",
       "      <td>243.56</td>\n",
       "    </tr>\n",
       "    <tr>\n",
       "      <th>13670.0</th>\n",
       "      <td>1</td>\n",
       "      <td>1</td>\n",
       "      <td>349.70</td>\n",
       "    </tr>\n",
       "  </tbody>\n",
       "</table>\n",
       "<p>4372 rows × 3 columns</p>\n",
       "</div>"
      ],
      "text/plain": [
       "            Bills  Billdates   Purchase\n",
       "CustomerID                             \n",
       "14911.0       248        248  132572.62\n",
       "12748.0       224        225   29072.10\n",
       "17841.0       169        168   40340.78\n",
       "14606.0       128        129   11713.85\n",
       "13089.0       118        114   57385.88\n",
       "...           ...        ...        ...\n",
       "13877.0         1          1     117.24\n",
       "16400.0         1          1     303.93\n",
       "13878.0         1          1    1281.53\n",
       "13886.0         1          1     243.56\n",
       "13670.0         1          1     349.70\n",
       "\n",
       "[4372 rows x 3 columns]"
      ]
     },
     "execution_count": 31,
     "metadata": {},
     "output_type": "execute_result"
    }
   ],
   "source": [
    "## Customers purchase frequency\n",
    "ret.groupby( [ 'CustomerID' ] ).agg( Bills = ( 'InvoiceNo', 'nunique'),\n",
    "                                   Billdates = ( 'InvoiceDate', 'nunique'),\n",
    "                                   Purchase = ( 'amt', 'sum') ).sort_values( by = 'Bills', ascending = False)"
   ]
  },
  {
   "cell_type": "code",
   "execution_count": 32,
   "id": "3f051f68-dfbe-4888-bcb2-c12a3585fbee",
   "metadata": {},
   "outputs": [
    {
     "data": {
      "text/html": [
       "<div>\n",
       "<style scoped>\n",
       "    .dataframe tbody tr th:only-of-type {\n",
       "        vertical-align: middle;\n",
       "    }\n",
       "\n",
       "    .dataframe tbody tr th {\n",
       "        vertical-align: top;\n",
       "    }\n",
       "\n",
       "    .dataframe thead th {\n",
       "        text-align: right;\n",
       "    }\n",
       "</style>\n",
       "<table border=\"1\" class=\"dataframe\">\n",
       "  <thead>\n",
       "    <tr style=\"text-align: right;\">\n",
       "      <th></th>\n",
       "      <th>InvoiceNo</th>\n",
       "      <th>StockCode</th>\n",
       "      <th>Description</th>\n",
       "      <th>Quantity</th>\n",
       "      <th>InvoiceDate</th>\n",
       "      <th>UnitPrice</th>\n",
       "      <th>CustomerID</th>\n",
       "      <th>Country</th>\n",
       "      <th>Year</th>\n",
       "      <th>month</th>\n",
       "      <th>week</th>\n",
       "      <th>amt</th>\n",
       "    </tr>\n",
       "  </thead>\n",
       "  <tbody>\n",
       "    <tr>\n",
       "      <th>158909</th>\n",
       "      <td>550320</td>\n",
       "      <td>21382</td>\n",
       "      <td>SET/4 SPRING FLOWER DECORATION</td>\n",
       "      <td>3</td>\n",
       "      <td>2011-04-17 12:37:00</td>\n",
       "      <td>2.95</td>\n",
       "      <td>12748.0</td>\n",
       "      <td>United Kingdom</td>\n",
       "      <td>2011</td>\n",
       "      <td>4</td>\n",
       "      <td>15</td>\n",
       "      <td>8.85</td>\n",
       "    </tr>\n",
       "    <tr>\n",
       "      <th>158910</th>\n",
       "      <td>550320</td>\n",
       "      <td>84459A</td>\n",
       "      <td>PINK METAL CHICKEN HEART</td>\n",
       "      <td>1</td>\n",
       "      <td>2011-04-17 12:37:00</td>\n",
       "      <td>1.49</td>\n",
       "      <td>12748.0</td>\n",
       "      <td>United Kingdom</td>\n",
       "      <td>2011</td>\n",
       "      <td>4</td>\n",
       "      <td>15</td>\n",
       "      <td>1.49</td>\n",
       "    </tr>\n",
       "    <tr>\n",
       "      <th>158911</th>\n",
       "      <td>550320</td>\n",
       "      <td>85203</td>\n",
       "      <td>HANGING WOOD AND FELT BUTTERFLY</td>\n",
       "      <td>6</td>\n",
       "      <td>2011-04-17 12:37:00</td>\n",
       "      <td>0.42</td>\n",
       "      <td>12748.0</td>\n",
       "      <td>United Kingdom</td>\n",
       "      <td>2011</td>\n",
       "      <td>4</td>\n",
       "      <td>15</td>\n",
       "      <td>2.52</td>\n",
       "    </tr>\n",
       "    <tr>\n",
       "      <th>158912</th>\n",
       "      <td>550320</td>\n",
       "      <td>84459A</td>\n",
       "      <td>PINK METAL CHICKEN HEART</td>\n",
       "      <td>2</td>\n",
       "      <td>2011-04-17 12:37:00</td>\n",
       "      <td>1.49</td>\n",
       "      <td>12748.0</td>\n",
       "      <td>United Kingdom</td>\n",
       "      <td>2011</td>\n",
       "      <td>4</td>\n",
       "      <td>15</td>\n",
       "      <td>2.98</td>\n",
       "    </tr>\n",
       "    <tr>\n",
       "      <th>158913</th>\n",
       "      <td>550320</td>\n",
       "      <td>23155</td>\n",
       "      <td>KNICKERBOCKERGLORY MAGNET ASSORTED</td>\n",
       "      <td>12</td>\n",
       "      <td>2011-04-17 12:37:00</td>\n",
       "      <td>0.83</td>\n",
       "      <td>12748.0</td>\n",
       "      <td>United Kingdom</td>\n",
       "      <td>2011</td>\n",
       "      <td>4</td>\n",
       "      <td>15</td>\n",
       "      <td>9.96</td>\n",
       "    </tr>\n",
       "    <tr>\n",
       "      <th>...</th>\n",
       "      <td>...</td>\n",
       "      <td>...</td>\n",
       "      <td>...</td>\n",
       "      <td>...</td>\n",
       "      <td>...</td>\n",
       "      <td>...</td>\n",
       "      <td>...</td>\n",
       "      <td>...</td>\n",
       "      <td>...</td>\n",
       "      <td>...</td>\n",
       "      <td>...</td>\n",
       "      <td>...</td>\n",
       "    </tr>\n",
       "    <tr>\n",
       "      <th>158993</th>\n",
       "      <td>550320</td>\n",
       "      <td>22839</td>\n",
       "      <td>3 TIER CAKE TIN GREEN AND CREAM</td>\n",
       "      <td>2</td>\n",
       "      <td>2011-04-17 12:38:00</td>\n",
       "      <td>14.95</td>\n",
       "      <td>12748.0</td>\n",
       "      <td>United Kingdom</td>\n",
       "      <td>2011</td>\n",
       "      <td>4</td>\n",
       "      <td>15</td>\n",
       "      <td>29.90</td>\n",
       "    </tr>\n",
       "    <tr>\n",
       "      <th>158994</th>\n",
       "      <td>550320</td>\n",
       "      <td>22427</td>\n",
       "      <td>ENAMEL FLOWER JUG CREAM</td>\n",
       "      <td>2</td>\n",
       "      <td>2011-04-17 12:38:00</td>\n",
       "      <td>5.95</td>\n",
       "      <td>12748.0</td>\n",
       "      <td>United Kingdom</td>\n",
       "      <td>2011</td>\n",
       "      <td>4</td>\n",
       "      <td>15</td>\n",
       "      <td>11.90</td>\n",
       "    </tr>\n",
       "    <tr>\n",
       "      <th>158995</th>\n",
       "      <td>550320</td>\n",
       "      <td>21318</td>\n",
       "      <td>GLASS CHALICE BLUE SMALL</td>\n",
       "      <td>12</td>\n",
       "      <td>2011-04-17 12:38:00</td>\n",
       "      <td>0.39</td>\n",
       "      <td>12748.0</td>\n",
       "      <td>United Kingdom</td>\n",
       "      <td>2011</td>\n",
       "      <td>4</td>\n",
       "      <td>15</td>\n",
       "      <td>4.68</td>\n",
       "    </tr>\n",
       "    <tr>\n",
       "      <th>158996</th>\n",
       "      <td>550320</td>\n",
       "      <td>22960</td>\n",
       "      <td>JAM MAKING SET WITH JARS</td>\n",
       "      <td>5</td>\n",
       "      <td>2011-04-17 12:38:00</td>\n",
       "      <td>4.25</td>\n",
       "      <td>12748.0</td>\n",
       "      <td>United Kingdom</td>\n",
       "      <td>2011</td>\n",
       "      <td>4</td>\n",
       "      <td>15</td>\n",
       "      <td>21.25</td>\n",
       "    </tr>\n",
       "    <tr>\n",
       "      <th>158997</th>\n",
       "      <td>550320</td>\n",
       "      <td>22060</td>\n",
       "      <td>LARGE CAKE STAND HANGING HEARTS</td>\n",
       "      <td>6</td>\n",
       "      <td>2011-04-17 12:38:00</td>\n",
       "      <td>3.95</td>\n",
       "      <td>12748.0</td>\n",
       "      <td>United Kingdom</td>\n",
       "      <td>2011</td>\n",
       "      <td>4</td>\n",
       "      <td>15</td>\n",
       "      <td>23.70</td>\n",
       "    </tr>\n",
       "  </tbody>\n",
       "</table>\n",
       "<p>89 rows × 12 columns</p>\n",
       "</div>"
      ],
      "text/plain": [
       "       InvoiceNo StockCode                          Description  Quantity  \\\n",
       "158909    550320     21382       SET/4 SPRING FLOWER DECORATION         3   \n",
       "158910    550320    84459A            PINK METAL CHICKEN HEART          1   \n",
       "158911    550320     85203     HANGING WOOD AND FELT BUTTERFLY          6   \n",
       "158912    550320    84459A            PINK METAL CHICKEN HEART          2   \n",
       "158913    550320     23155  KNICKERBOCKERGLORY MAGNET ASSORTED         12   \n",
       "...          ...       ...                                  ...       ...   \n",
       "158993    550320     22839      3 TIER CAKE TIN GREEN AND CREAM         2   \n",
       "158994    550320     22427              ENAMEL FLOWER JUG CREAM         2   \n",
       "158995    550320     21318            GLASS CHALICE BLUE SMALL         12   \n",
       "158996    550320     22960             JAM MAKING SET WITH JARS         5   \n",
       "158997    550320     22060      LARGE CAKE STAND HANGING HEARTS         6   \n",
       "\n",
       "               InvoiceDate  UnitPrice  CustomerID         Country  Year  \\\n",
       "158909 2011-04-17 12:37:00       2.95     12748.0  United Kingdom  2011   \n",
       "158910 2011-04-17 12:37:00       1.49     12748.0  United Kingdom  2011   \n",
       "158911 2011-04-17 12:37:00       0.42     12748.0  United Kingdom  2011   \n",
       "158912 2011-04-17 12:37:00       1.49     12748.0  United Kingdom  2011   \n",
       "158913 2011-04-17 12:37:00       0.83     12748.0  United Kingdom  2011   \n",
       "...                    ...        ...         ...             ...   ...   \n",
       "158993 2011-04-17 12:38:00      14.95     12748.0  United Kingdom  2011   \n",
       "158994 2011-04-17 12:38:00       5.95     12748.0  United Kingdom  2011   \n",
       "158995 2011-04-17 12:38:00       0.39     12748.0  United Kingdom  2011   \n",
       "158996 2011-04-17 12:38:00       4.25     12748.0  United Kingdom  2011   \n",
       "158997 2011-04-17 12:38:00       3.95     12748.0  United Kingdom  2011   \n",
       "\n",
       "        month  week    amt  \n",
       "158909      4    15   8.85  \n",
       "158910      4    15   1.49  \n",
       "158911      4    15   2.52  \n",
       "158912      4    15   2.98  \n",
       "158913      4    15   9.96  \n",
       "...       ...   ...    ...  \n",
       "158993      4    15  29.90  \n",
       "158994      4    15  11.90  \n",
       "158995      4    15   4.68  \n",
       "158996      4    15  21.25  \n",
       "158997      4    15  23.70  \n",
       "\n",
       "[89 rows x 12 columns]"
      ]
     },
     "execution_count": 32,
     "metadata": {},
     "output_type": "execute_result"
    }
   ],
   "source": [
    "ret[ (ret.CustomerID == 12748) & (ret.InvoiceNo == 550320) ]"
   ]
  },
  {
   "cell_type": "markdown",
   "id": "5c2cd150-cf74-4f3f-8e58-fe9c0e57fc05",
   "metadata": {},
   "source": [
    "### Average Basket size and bill value for each customer"
   ]
  },
  {
   "cell_type": "code",
   "execution_count": 265,
   "id": "87331cc3-d4c9-4794-860d-c42c794369ef",
   "metadata": {},
   "outputs": [],
   "source": [
    "basket = ret.groupby( [ 'CustomerID' ] ).agg( Bills = ( 'InvoiceNo', 'nunique'),\n",
    "                                   Items = ( 'StockCode', 'count'),\n",
    "                                             Unique_items = ( 'StockCode', 'nunique'),\n",
    "                                   Purchase = ( 'amt', 'sum') ).sort_values( by = 'Bills', ascending = False)"
   ]
  },
  {
   "cell_type": "code",
   "execution_count": 267,
   "id": "c1be8409-b9ae-44b9-aa39-3110dee223b8",
   "metadata": {},
   "outputs": [],
   "source": [
    "basket[ 'Avg_Items'] = basket.Items/basket.Bills"
   ]
  },
  {
   "cell_type": "code",
   "execution_count": 269,
   "id": "d6af6942-1288-4191-9e9b-f392625062a4",
   "metadata": {},
   "outputs": [],
   "source": [
    "basket[ 'Avg_bill_value'] = basket.Purchase/basket.Bills"
   ]
  },
  {
   "cell_type": "code",
   "execution_count": 271,
   "id": "2748dfe8-2f51-42ef-9200-45a353e0e1ba",
   "metadata": {},
   "outputs": [
    {
     "data": {
      "text/html": [
       "<div>\n",
       "<style scoped>\n",
       "    .dataframe tbody tr th:only-of-type {\n",
       "        vertical-align: middle;\n",
       "    }\n",
       "\n",
       "    .dataframe tbody tr th {\n",
       "        vertical-align: top;\n",
       "    }\n",
       "\n",
       "    .dataframe thead th {\n",
       "        text-align: right;\n",
       "    }\n",
       "</style>\n",
       "<table border=\"1\" class=\"dataframe\">\n",
       "  <thead>\n",
       "    <tr style=\"text-align: right;\">\n",
       "      <th></th>\n",
       "      <th>Bills</th>\n",
       "      <th>Items</th>\n",
       "      <th>Unique_items</th>\n",
       "      <th>Purchase</th>\n",
       "      <th>Avg_Items</th>\n",
       "      <th>Avg_bill_value</th>\n",
       "    </tr>\n",
       "    <tr>\n",
       "      <th>CustomerID</th>\n",
       "      <th></th>\n",
       "      <th></th>\n",
       "      <th></th>\n",
       "      <th></th>\n",
       "      <th></th>\n",
       "      <th></th>\n",
       "    </tr>\n",
       "  </thead>\n",
       "  <tbody>\n",
       "    <tr>\n",
       "      <th>14911.0</th>\n",
       "      <td>248</td>\n",
       "      <td>5903</td>\n",
       "      <td>1794</td>\n",
       "      <td>132572.62</td>\n",
       "      <td>23.802419</td>\n",
       "      <td>534.567016</td>\n",
       "    </tr>\n",
       "    <tr>\n",
       "      <th>12748.0</th>\n",
       "      <td>224</td>\n",
       "      <td>4642</td>\n",
       "      <td>1769</td>\n",
       "      <td>29072.10</td>\n",
       "      <td>20.723214</td>\n",
       "      <td>129.786161</td>\n",
       "    </tr>\n",
       "    <tr>\n",
       "      <th>17841.0</th>\n",
       "      <td>169</td>\n",
       "      <td>7983</td>\n",
       "      <td>1331</td>\n",
       "      <td>40340.78</td>\n",
       "      <td>47.236686</td>\n",
       "      <td>238.702840</td>\n",
       "    </tr>\n",
       "    <tr>\n",
       "      <th>14606.0</th>\n",
       "      <td>128</td>\n",
       "      <td>2782</td>\n",
       "      <td>832</td>\n",
       "      <td>11713.85</td>\n",
       "      <td>21.734375</td>\n",
       "      <td>91.514453</td>\n",
       "    </tr>\n",
       "    <tr>\n",
       "      <th>13089.0</th>\n",
       "      <td>118</td>\n",
       "      <td>1857</td>\n",
       "      <td>636</td>\n",
       "      <td>57385.88</td>\n",
       "      <td>15.737288</td>\n",
       "      <td>486.321017</td>\n",
       "    </tr>\n",
       "    <tr>\n",
       "      <th>...</th>\n",
       "      <td>...</td>\n",
       "      <td>...</td>\n",
       "      <td>...</td>\n",
       "      <td>...</td>\n",
       "      <td>...</td>\n",
       "      <td>...</td>\n",
       "    </tr>\n",
       "    <tr>\n",
       "      <th>13877.0</th>\n",
       "      <td>1</td>\n",
       "      <td>3</td>\n",
       "      <td>3</td>\n",
       "      <td>117.24</td>\n",
       "      <td>3.000000</td>\n",
       "      <td>117.240000</td>\n",
       "    </tr>\n",
       "    <tr>\n",
       "      <th>16400.0</th>\n",
       "      <td>1</td>\n",
       "      <td>29</td>\n",
       "      <td>28</td>\n",
       "      <td>303.93</td>\n",
       "      <td>29.000000</td>\n",
       "      <td>303.930000</td>\n",
       "    </tr>\n",
       "    <tr>\n",
       "      <th>13878.0</th>\n",
       "      <td>1</td>\n",
       "      <td>36</td>\n",
       "      <td>35</td>\n",
       "      <td>1281.53</td>\n",
       "      <td>36.000000</td>\n",
       "      <td>1281.530000</td>\n",
       "    </tr>\n",
       "    <tr>\n",
       "      <th>13886.0</th>\n",
       "      <td>1</td>\n",
       "      <td>16</td>\n",
       "      <td>16</td>\n",
       "      <td>243.56</td>\n",
       "      <td>16.000000</td>\n",
       "      <td>243.560000</td>\n",
       "    </tr>\n",
       "    <tr>\n",
       "      <th>13670.0</th>\n",
       "      <td>1</td>\n",
       "      <td>25</td>\n",
       "      <td>25</td>\n",
       "      <td>349.70</td>\n",
       "      <td>25.000000</td>\n",
       "      <td>349.700000</td>\n",
       "    </tr>\n",
       "  </tbody>\n",
       "</table>\n",
       "<p>4372 rows × 6 columns</p>\n",
       "</div>"
      ],
      "text/plain": [
       "            Bills  Items  Unique_items   Purchase  Avg_Items  Avg_bill_value\n",
       "CustomerID                                                                  \n",
       "14911.0       248   5903          1794  132572.62  23.802419      534.567016\n",
       "12748.0       224   4642          1769   29072.10  20.723214      129.786161\n",
       "17841.0       169   7983          1331   40340.78  47.236686      238.702840\n",
       "14606.0       128   2782           832   11713.85  21.734375       91.514453\n",
       "13089.0       118   1857           636   57385.88  15.737288      486.321017\n",
       "...           ...    ...           ...        ...        ...             ...\n",
       "13877.0         1      3             3     117.24   3.000000      117.240000\n",
       "16400.0         1     29            28     303.93  29.000000      303.930000\n",
       "13878.0         1     36            35    1281.53  36.000000     1281.530000\n",
       "13886.0         1     16            16     243.56  16.000000      243.560000\n",
       "13670.0         1     25            25     349.70  25.000000      349.700000\n",
       "\n",
       "[4372 rows x 6 columns]"
      ]
     },
     "execution_count": 271,
     "metadata": {},
     "output_type": "execute_result"
    }
   ],
   "source": [
    "basket"
   ]
  },
  {
   "cell_type": "markdown",
   "id": "fe1a171a-6ef7-4c0d-820b-28737c169790",
   "metadata": {},
   "source": [
    "### Return vs. New customers for each month"
   ]
  },
  {
   "cell_type": "code",
   "execution_count": 39,
   "id": "96b0ebb9-3e01-43d6-9613-8a07a73856c8",
   "metadata": {},
   "outputs": [],
   "source": [
    "cust1 = ret.loc[ ret.InvoiceDate < '2011-01-01', 'CustomerID' ].unique()"
   ]
  },
  {
   "cell_type": "code",
   "execution_count": 40,
   "id": "c7dc3c77-372f-490f-a8ab-541e3c936d27",
   "metadata": {},
   "outputs": [],
   "source": [
    "jan1 = ret.loc[ ret.CustomerID.isin( cust1) & ( ret.InvoiceDate >= '2011-01-01' ) & ( ret.InvoiceDate < '2011-02-01' ), \n",
    "                                                                [ 'Year', 'month', 'CustomerID'] ]"
   ]
  },
  {
   "cell_type": "code",
   "execution_count": 41,
   "id": "480261db-0aff-481f-a029-2b44fe7a6180",
   "metadata": {},
   "outputs": [],
   "source": [
    "jan2 = jan1.drop_duplicates( subset = 'CustomerID').dropna()"
   ]
  },
  {
   "cell_type": "code",
   "execution_count": 42,
   "id": "e31d2dad-755e-45b6-9a56-6497e2977386",
   "metadata": {},
   "outputs": [],
   "source": [
    "jan2.rename( columns = { 'CustomerID' : 'Return_Customer'}, inplace = True )"
   ]
  },
  {
   "cell_type": "code",
   "execution_count": 43,
   "id": "602cb75b-4350-4e9d-928f-66f7fee2d5fc",
   "metadata": {},
   "outputs": [
    {
     "data": {
      "text/html": [
       "<div>\n",
       "<style scoped>\n",
       "    .dataframe tbody tr th:only-of-type {\n",
       "        vertical-align: middle;\n",
       "    }\n",
       "\n",
       "    .dataframe tbody tr th {\n",
       "        vertical-align: top;\n",
       "    }\n",
       "\n",
       "    .dataframe thead th {\n",
       "        text-align: right;\n",
       "    }\n",
       "</style>\n",
       "<table border=\"1\" class=\"dataframe\">\n",
       "  <thead>\n",
       "    <tr style=\"text-align: right;\">\n",
       "      <th></th>\n",
       "      <th>Year</th>\n",
       "      <th>month</th>\n",
       "      <th>Return_Customer</th>\n",
       "    </tr>\n",
       "  </thead>\n",
       "  <tbody>\n",
       "    <tr>\n",
       "      <th>42505</th>\n",
       "      <td>2011</td>\n",
       "      <td>1</td>\n",
       "      <td>18097.0</td>\n",
       "    </tr>\n",
       "    <tr>\n",
       "      <th>42514</th>\n",
       "      <td>2011</td>\n",
       "      <td>1</td>\n",
       "      <td>16656.0</td>\n",
       "    </tr>\n",
       "    <tr>\n",
       "      <th>42540</th>\n",
       "      <td>2011</td>\n",
       "      <td>1</td>\n",
       "      <td>13094.0</td>\n",
       "    </tr>\n",
       "    <tr>\n",
       "      <th>42541</th>\n",
       "      <td>2011</td>\n",
       "      <td>1</td>\n",
       "      <td>17315.0</td>\n",
       "    </tr>\n",
       "    <tr>\n",
       "      <th>42557</th>\n",
       "      <td>2011</td>\n",
       "      <td>1</td>\n",
       "      <td>14606.0</td>\n",
       "    </tr>\n",
       "    <tr>\n",
       "      <th>...</th>\n",
       "      <td>...</td>\n",
       "      <td>...</td>\n",
       "      <td>...</td>\n",
       "    </tr>\n",
       "    <tr>\n",
       "      <th>77133</th>\n",
       "      <td>2011</td>\n",
       "      <td>1</td>\n",
       "      <td>17894.0</td>\n",
       "    </tr>\n",
       "    <tr>\n",
       "      <th>77161</th>\n",
       "      <td>2011</td>\n",
       "      <td>1</td>\n",
       "      <td>12668.0</td>\n",
       "    </tr>\n",
       "    <tr>\n",
       "      <th>77242</th>\n",
       "      <td>2011</td>\n",
       "      <td>1</td>\n",
       "      <td>17580.0</td>\n",
       "    </tr>\n",
       "    <tr>\n",
       "      <th>77572</th>\n",
       "      <td>2011</td>\n",
       "      <td>1</td>\n",
       "      <td>17375.0</td>\n",
       "    </tr>\n",
       "    <tr>\n",
       "      <th>77601</th>\n",
       "      <td>2011</td>\n",
       "      <td>1</td>\n",
       "      <td>15881.0</td>\n",
       "    </tr>\n",
       "  </tbody>\n",
       "</table>\n",
       "<p>362 rows × 3 columns</p>\n",
       "</div>"
      ],
      "text/plain": [
       "       Year  month  Return_Customer\n",
       "42505  2011      1          18097.0\n",
       "42514  2011      1          16656.0\n",
       "42540  2011      1          13094.0\n",
       "42541  2011      1          17315.0\n",
       "42557  2011      1          14606.0\n",
       "...     ...    ...              ...\n",
       "77133  2011      1          17894.0\n",
       "77161  2011      1          12668.0\n",
       "77242  2011      1          17580.0\n",
       "77572  2011      1          17375.0\n",
       "77601  2011      1          15881.0\n",
       "\n",
       "[362 rows x 3 columns]"
      ]
     },
     "execution_count": 43,
     "metadata": {},
     "output_type": "execute_result"
    }
   ],
   "source": [
    "jan2"
   ]
  },
  {
   "cell_type": "code",
   "execution_count": 44,
   "id": "4ff4fc4e-1b49-43a0-a041-62327b109f2c",
   "metadata": {},
   "outputs": [],
   "source": [
    "jan3 = ret.loc[ (~ret.CustomerID.isin( cust1)) & ( ret.InvoiceDate >= '2011-01-01' ) & ( ret.InvoiceDate < '2011-02-01' ), \n",
    "                                                                [ 'Year', 'month', 'CustomerID'] ]"
   ]
  },
  {
   "cell_type": "code",
   "execution_count": 45,
   "id": "bbb2e86b-1aa9-48a3-898d-00efea6399a6",
   "metadata": {},
   "outputs": [],
   "source": [
    "jan4 = jan3.drop_duplicates( subset = 'CustomerID').dropna()"
   ]
  },
  {
   "cell_type": "code",
   "execution_count": 46,
   "id": "d16d4cbc-dfe1-459b-a48e-796570f5c93c",
   "metadata": {},
   "outputs": [],
   "source": [
    "jan4.rename( columns = { 'CustomerID' : 'New_Customer'}, inplace = True )"
   ]
  },
  {
   "cell_type": "code",
   "execution_count": 47,
   "id": "8fe97e30-d09b-4184-ba41-16d28ec8904d",
   "metadata": {},
   "outputs": [
    {
     "data": {
      "text/html": [
       "<div>\n",
       "<style scoped>\n",
       "    .dataframe tbody tr th:only-of-type {\n",
       "        vertical-align: middle;\n",
       "    }\n",
       "\n",
       "    .dataframe tbody tr th {\n",
       "        vertical-align: top;\n",
       "    }\n",
       "\n",
       "    .dataframe thead th {\n",
       "        text-align: right;\n",
       "    }\n",
       "</style>\n",
       "<table border=\"1\" class=\"dataframe\">\n",
       "  <thead>\n",
       "    <tr style=\"text-align: right;\">\n",
       "      <th></th>\n",
       "      <th>Year</th>\n",
       "      <th>month</th>\n",
       "      <th>New_Customer</th>\n",
       "    </tr>\n",
       "  </thead>\n",
       "  <tbody>\n",
       "    <tr>\n",
       "      <th>42481</th>\n",
       "      <td>2011</td>\n",
       "      <td>1</td>\n",
       "      <td>13313.0</td>\n",
       "    </tr>\n",
       "    <tr>\n",
       "      <th>42518</th>\n",
       "      <td>2011</td>\n",
       "      <td>1</td>\n",
       "      <td>16875.0</td>\n",
       "    </tr>\n",
       "    <tr>\n",
       "      <th>42687</th>\n",
       "      <td>2011</td>\n",
       "      <td>1</td>\n",
       "      <td>16282.0</td>\n",
       "    </tr>\n",
       "    <tr>\n",
       "      <th>42712</th>\n",
       "      <td>2011</td>\n",
       "      <td>1</td>\n",
       "      <td>12957.0</td>\n",
       "    </tr>\n",
       "    <tr>\n",
       "      <th>42741</th>\n",
       "      <td>2011</td>\n",
       "      <td>1</td>\n",
       "      <td>14462.0</td>\n",
       "    </tr>\n",
       "    <tr>\n",
       "      <th>...</th>\n",
       "      <td>...</td>\n",
       "      <td>...</td>\n",
       "      <td>...</td>\n",
       "    </tr>\n",
       "    <tr>\n",
       "      <th>77381</th>\n",
       "      <td>2011</td>\n",
       "      <td>1</td>\n",
       "      <td>17256.0</td>\n",
       "    </tr>\n",
       "    <tr>\n",
       "      <th>77410</th>\n",
       "      <td>2011</td>\n",
       "      <td>1</td>\n",
       "      <td>17604.0</td>\n",
       "    </tr>\n",
       "    <tr>\n",
       "      <th>77437</th>\n",
       "      <td>2011</td>\n",
       "      <td>1</td>\n",
       "      <td>14006.0</td>\n",
       "    </tr>\n",
       "    <tr>\n",
       "      <th>77460</th>\n",
       "      <td>2011</td>\n",
       "      <td>1</td>\n",
       "      <td>13600.0</td>\n",
       "    </tr>\n",
       "    <tr>\n",
       "      <th>77483</th>\n",
       "      <td>2011</td>\n",
       "      <td>1</td>\n",
       "      <td>15058.0</td>\n",
       "    </tr>\n",
       "  </tbody>\n",
       "</table>\n",
       "<p>421 rows × 3 columns</p>\n",
       "</div>"
      ],
      "text/plain": [
       "       Year  month  New_Customer\n",
       "42481  2011      1       13313.0\n",
       "42518  2011      1       16875.0\n",
       "42687  2011      1       16282.0\n",
       "42712  2011      1       12957.0\n",
       "42741  2011      1       14462.0\n",
       "...     ...    ...           ...\n",
       "77381  2011      1       17256.0\n",
       "77410  2011      1       17604.0\n",
       "77437  2011      1       14006.0\n",
       "77460  2011      1       13600.0\n",
       "77483  2011      1       15058.0\n",
       "\n",
       "[421 rows x 3 columns]"
      ]
     },
     "execution_count": 47,
     "metadata": {},
     "output_type": "execute_result"
    }
   ],
   "source": [
    "jan4"
   ]
  },
  {
   "cell_type": "code",
   "execution_count": null,
   "id": "cd24d6d7-eaee-447e-ab6e-1d9805a4427b",
   "metadata": {},
   "outputs": [],
   "source": []
  },
  {
   "cell_type": "code",
   "execution_count": 48,
   "id": "b441b6fd-e057-4a97-9990-4af0c0510788",
   "metadata": {},
   "outputs": [],
   "source": [
    "cust2 = ret.loc[ ret.InvoiceDate < '2011-02-01', 'CustomerID' ].unique()"
   ]
  },
  {
   "cell_type": "code",
   "execution_count": 49,
   "id": "d945cd17-3179-4376-bd4b-8f4f4e594d73",
   "metadata": {},
   "outputs": [],
   "source": [
    "feb1 = ret.loc[ ret.CustomerID.isin( cust2) & ( ret.InvoiceDate >= '2011-02-01' ) & ( ret.InvoiceDate < '2011-03-01' ), \n",
    "                                                                [ 'Year', 'month', 'CustomerID'] ]"
   ]
  },
  {
   "cell_type": "code",
   "execution_count": 50,
   "id": "81d672c2-156f-4835-9e9c-c50297806ced",
   "metadata": {},
   "outputs": [],
   "source": [
    "feb2 = feb1.drop_duplicates( subset = 'CustomerID').dropna()"
   ]
  },
  {
   "cell_type": "code",
   "execution_count": 51,
   "id": "e8e055e9-b37d-4afe-93a6-2766565bf5ac",
   "metadata": {},
   "outputs": [],
   "source": [
    "feb2.rename( columns = { 'CustomerID' : 'Return_Customer'}, inplace = True )"
   ]
  },
  {
   "cell_type": "code",
   "execution_count": 52,
   "id": "44439201-d74b-49b6-8fd9-0481b22e8acf",
   "metadata": {},
   "outputs": [],
   "source": [
    "feb3 = ret.loc[ (~ret.CustomerID.isin( cust2)) & ( ret.InvoiceDate >= '2011-02-01' ) & ( ret.InvoiceDate < '2011-03-01' ), \n",
    "                                                                [ 'Year', 'month', 'CustomerID'] ]"
   ]
  },
  {
   "cell_type": "code",
   "execution_count": 53,
   "id": "bd49e7ae-62d3-469d-a42c-58867933cf49",
   "metadata": {},
   "outputs": [],
   "source": [
    "feb4 = feb3.drop_duplicates( subset = 'CustomerID').dropna()"
   ]
  },
  {
   "cell_type": "code",
   "execution_count": 54,
   "id": "f2c71f3e-4e6b-4a9d-9547-525fc2471c65",
   "metadata": {},
   "outputs": [],
   "source": [
    "feb4.rename( columns = { 'CustomerID' : 'New_Customer'}, inplace = True )"
   ]
  },
  {
   "cell_type": "code",
   "execution_count": null,
   "id": "7f215db1-415b-416f-b4ee-ddf1d518fefe",
   "metadata": {},
   "outputs": [],
   "source": []
  },
  {
   "cell_type": "code",
   "execution_count": 55,
   "id": "a462c36f-9fee-4b95-8cb6-dba6821aa557",
   "metadata": {},
   "outputs": [],
   "source": [
    "cust3 = ret.loc[ ret.InvoiceDate < '2011-03-01', 'CustomerID' ].unique()"
   ]
  },
  {
   "cell_type": "code",
   "execution_count": 56,
   "id": "c7eab3d9-9566-4863-94a1-99d72d1238d9",
   "metadata": {},
   "outputs": [],
   "source": [
    "mar1 = ret.loc[ ret.CustomerID.isin( cust3) & ( ret.InvoiceDate >= '2011-03-01' ) & ( ret.InvoiceDate < '2011-04-01' ), \n",
    "                                                                [ 'Year', 'month', 'CustomerID'] ]"
   ]
  },
  {
   "cell_type": "code",
   "execution_count": 57,
   "id": "4bf496d5-3d0c-469f-99d3-464e2977f036",
   "metadata": {},
   "outputs": [],
   "source": [
    "mar2 = mar1.drop_duplicates( subset = 'CustomerID').dropna()"
   ]
  },
  {
   "cell_type": "code",
   "execution_count": 58,
   "id": "41cb95f3-8b55-445e-8fbc-afe916782030",
   "metadata": {},
   "outputs": [],
   "source": [
    "mar2.rename( columns = { 'CustomerID' : 'Return_Customer'}, inplace = True )"
   ]
  },
  {
   "cell_type": "code",
   "execution_count": 59,
   "id": "af9a0c9b-70fa-466c-b541-583da182b7e7",
   "metadata": {},
   "outputs": [],
   "source": [
    "mar3 = ret.loc[ (~ret.CustomerID.isin( cust3)) & ( ret.InvoiceDate >= '2011-03-01' ) & ( ret.InvoiceDate < '2011-04-01' ), \n",
    "                                                                [ 'Year', 'month', 'CustomerID'] ]"
   ]
  },
  {
   "cell_type": "code",
   "execution_count": 60,
   "id": "25e84292-be54-4d2e-8299-1a9d4a7ddba9",
   "metadata": {},
   "outputs": [],
   "source": [
    "mar4 = mar3.drop_duplicates( subset = 'CustomerID').dropna()"
   ]
  },
  {
   "cell_type": "code",
   "execution_count": 61,
   "id": "4f4dff80-1f9a-47bd-afdc-143651d55e88",
   "metadata": {},
   "outputs": [],
   "source": [
    "mar4.rename( columns = { 'CustomerID' : 'New_Customer'}, inplace = True )"
   ]
  },
  {
   "cell_type": "code",
   "execution_count": null,
   "id": "4dbce976-7896-46e8-add4-7d22613114e3",
   "metadata": {},
   "outputs": [],
   "source": []
  },
  {
   "cell_type": "code",
   "execution_count": 62,
   "id": "386ba315-90b0-4dad-bc90-481364c20741",
   "metadata": {},
   "outputs": [],
   "source": [
    "cust4 = ret.loc[ ret.InvoiceDate < '2011-04-01', 'CustomerID' ].unique()"
   ]
  },
  {
   "cell_type": "code",
   "execution_count": 63,
   "id": "5a489c39-0dba-4a72-8091-9f8d70759cda",
   "metadata": {},
   "outputs": [],
   "source": [
    "apr1 = ret.loc[ ret.CustomerID.isin( cust4) & ( ret.InvoiceDate >= '2011-04-01' ) & ( ret.InvoiceDate < '2011-05-01' ), \n",
    "                                                                [ 'Year', 'month', 'CustomerID'] ]"
   ]
  },
  {
   "cell_type": "code",
   "execution_count": 64,
   "id": "1475ed19-e731-48df-b438-a9743b2563db",
   "metadata": {},
   "outputs": [],
   "source": [
    "apr2 = apr1.drop_duplicates( subset = 'CustomerID').dropna()"
   ]
  },
  {
   "cell_type": "code",
   "execution_count": 65,
   "id": "2beaddf1-5c4e-4286-9c2b-2ac19db10185",
   "metadata": {},
   "outputs": [],
   "source": [
    "apr2.rename( columns = { 'CustomerID' : 'Return_Customer'}, inplace = True )"
   ]
  },
  {
   "cell_type": "code",
   "execution_count": 66,
   "id": "bb3eca27-c641-4fa2-99be-c47dc9c59d9d",
   "metadata": {},
   "outputs": [],
   "source": [
    "apr3 = ret.loc[ (~ret.CustomerID.isin( cust4)) & ( ret.InvoiceDate >= '2011-04-01' ) & ( ret.InvoiceDate < '2011-05-01' ), \n",
    "                                                                [ 'Year', 'month', 'CustomerID'] ]"
   ]
  },
  {
   "cell_type": "code",
   "execution_count": 67,
   "id": "92dec15c-6f72-43fd-a9d0-8ec1055900aa",
   "metadata": {},
   "outputs": [],
   "source": [
    "apr4 = apr3.drop_duplicates( subset = 'CustomerID').dropna()"
   ]
  },
  {
   "cell_type": "code",
   "execution_count": 68,
   "id": "7751dda7-a68e-49c0-8d76-28d36b6c809b",
   "metadata": {},
   "outputs": [],
   "source": [
    "apr4.rename( columns = { 'CustomerID' : 'New_Customer'}, inplace = True )"
   ]
  },
  {
   "cell_type": "code",
   "execution_count": null,
   "id": "f6916be7-aeb0-43a7-8f2f-c3b7d6fe423f",
   "metadata": {},
   "outputs": [],
   "source": []
  },
  {
   "cell_type": "code",
   "execution_count": 69,
   "id": "257f5a42-1f15-43b2-b571-c0b56f959974",
   "metadata": {},
   "outputs": [],
   "source": [
    "cust5 = ret.loc[ ret.InvoiceDate < '2011-05-01', 'CustomerID' ].unique()"
   ]
  },
  {
   "cell_type": "code",
   "execution_count": 70,
   "id": "5d8a0592-6e65-444b-b02b-b5951d35a727",
   "metadata": {},
   "outputs": [],
   "source": [
    "may1 = ret.loc[ ret.CustomerID.isin( cust5) & ( ret.InvoiceDate >= '2011-05-01' ) & ( ret.InvoiceDate < '2011-06-01' ), \n",
    "                                                                [ 'Year', 'month', 'CustomerID'] ]"
   ]
  },
  {
   "cell_type": "code",
   "execution_count": 71,
   "id": "73c39a74-00d9-4214-8fe4-d8653884367f",
   "metadata": {},
   "outputs": [],
   "source": [
    "may2 = may1.drop_duplicates( subset = 'CustomerID').dropna()"
   ]
  },
  {
   "cell_type": "code",
   "execution_count": 72,
   "id": "1820c669-8100-4770-af44-da9966a2f765",
   "metadata": {},
   "outputs": [],
   "source": [
    "may2.rename( columns = { 'CustomerID' : 'Return_Customer'}, inplace = True )"
   ]
  },
  {
   "cell_type": "code",
   "execution_count": 73,
   "id": "f0ecb465-da42-4f13-b146-cb62345558f9",
   "metadata": {},
   "outputs": [],
   "source": [
    "may3 = ret.loc[ (~ret.CustomerID.isin( cust5)) & ( ret.InvoiceDate >= '2011-05-01' ) & ( ret.InvoiceDate < '2011-06-01' ), \n",
    "                                                                [ 'Year', 'month', 'CustomerID'] ]"
   ]
  },
  {
   "cell_type": "code",
   "execution_count": 74,
   "id": "b2dbe8e0-eb6c-4a4d-9231-adf2b7c98f23",
   "metadata": {},
   "outputs": [],
   "source": [
    "may4 = may3.drop_duplicates( subset = 'CustomerID').dropna()"
   ]
  },
  {
   "cell_type": "code",
   "execution_count": 75,
   "id": "74d26ff7-98f3-4e6b-81ba-ca6732a4029f",
   "metadata": {},
   "outputs": [],
   "source": [
    "may4.rename( columns = { 'CustomerID' : 'New_Customer'}, inplace = True )"
   ]
  },
  {
   "cell_type": "code",
   "execution_count": null,
   "id": "41c20c6e-7cfd-44ae-9925-6d7c1bb6b7c9",
   "metadata": {},
   "outputs": [],
   "source": []
  },
  {
   "cell_type": "code",
   "execution_count": 76,
   "id": "d6a37562-1b97-4b4c-a04c-b6a6f36bc74a",
   "metadata": {},
   "outputs": [],
   "source": [
    "cust6 = ret.loc[ ret.InvoiceDate < '2011-06-01', 'CustomerID' ].unique()"
   ]
  },
  {
   "cell_type": "code",
   "execution_count": 77,
   "id": "ebf474be-d890-4802-87bd-dd706043d84b",
   "metadata": {},
   "outputs": [],
   "source": [
    "jun1 = ret.loc[ ret.CustomerID.isin( cust6) & ( ret.InvoiceDate >= '2011-06-01' ) & ( ret.InvoiceDate < '2011-07-01' ), \n",
    "                                                                [ 'Year', 'month', 'CustomerID'] ]"
   ]
  },
  {
   "cell_type": "code",
   "execution_count": 78,
   "id": "9b5153de-8613-4bf4-ba42-b3ee6cd05de9",
   "metadata": {},
   "outputs": [],
   "source": [
    "jun2 = jun1.drop_duplicates( subset = 'CustomerID').dropna()"
   ]
  },
  {
   "cell_type": "code",
   "execution_count": 79,
   "id": "b80b91fb-f9ad-49d3-be4f-70b7a06a3f4f",
   "metadata": {},
   "outputs": [],
   "source": [
    "jun2.rename( columns = { 'CustomerID' : 'Return_Customer'}, inplace = True )"
   ]
  },
  {
   "cell_type": "code",
   "execution_count": 80,
   "id": "734c2977-7997-497d-ab8f-0a240f9c397d",
   "metadata": {},
   "outputs": [],
   "source": [
    "jun3 = ret.loc[ (~ret.CustomerID.isin( cust6)) & ( ret.InvoiceDate >= '2011-06-01' ) & ( ret.InvoiceDate < '2011-07-01' ), \n",
    "                                                                [ 'Year', 'month', 'CustomerID'] ]"
   ]
  },
  {
   "cell_type": "code",
   "execution_count": 81,
   "id": "9bce9795-7328-4910-8bc0-f7bfd49bb5df",
   "metadata": {},
   "outputs": [],
   "source": [
    "jun4 = jun3.drop_duplicates( subset = 'CustomerID').dropna()"
   ]
  },
  {
   "cell_type": "code",
   "execution_count": 82,
   "id": "ce844889-1eb9-401d-919d-65e4884900b6",
   "metadata": {},
   "outputs": [],
   "source": [
    "jun4.rename( columns = { 'CustomerID' : 'New_Customer'}, inplace = True )"
   ]
  },
  {
   "cell_type": "code",
   "execution_count": null,
   "id": "9e017fef-b0b6-4bd3-b9a6-dd787f4553ae",
   "metadata": {},
   "outputs": [],
   "source": []
  },
  {
   "cell_type": "code",
   "execution_count": 83,
   "id": "ab7e4ca3-542f-4b01-bc36-a11bca4647a1",
   "metadata": {},
   "outputs": [],
   "source": [
    "cust7 = ret.loc[ ret.InvoiceDate < '2011-07-01', 'CustomerID' ].unique()"
   ]
  },
  {
   "cell_type": "code",
   "execution_count": 84,
   "id": "9999ced4-6e2e-4af7-af98-c89290cc7d42",
   "metadata": {},
   "outputs": [],
   "source": [
    "jul1 = ret.loc[ ret.CustomerID.isin( cust7) & ( ret.InvoiceDate >= '2011-07-01' ) & ( ret.InvoiceDate < '2011-08-01' ), \n",
    "                                                                [ 'Year', 'month', 'CustomerID'] ]"
   ]
  },
  {
   "cell_type": "code",
   "execution_count": 85,
   "id": "854785f3-787c-4352-9d29-3632c8ece5eb",
   "metadata": {},
   "outputs": [],
   "source": [
    "jul2 = jul1.drop_duplicates( subset = 'CustomerID').dropna()"
   ]
  },
  {
   "cell_type": "code",
   "execution_count": 86,
   "id": "89f90cc9-4efe-4f74-9867-4644b74fd115",
   "metadata": {},
   "outputs": [],
   "source": [
    "jul2.rename( columns = { 'CustomerID' : 'Return_Customer'}, inplace = True )"
   ]
  },
  {
   "cell_type": "code",
   "execution_count": 87,
   "id": "74355cab-0f93-4d4b-9014-249ba7b8d2e3",
   "metadata": {},
   "outputs": [],
   "source": [
    "jul3 = ret.loc[ (~ret.CustomerID.isin( cust7)) & ( ret.InvoiceDate >= '2011-07-01' ) & ( ret.InvoiceDate < '2011-08-01' ), \n",
    "                                                                [ 'Year', 'month', 'CustomerID'] ]"
   ]
  },
  {
   "cell_type": "code",
   "execution_count": 88,
   "id": "284258ec-bf34-48c3-a535-e0f01f0af6f3",
   "metadata": {},
   "outputs": [],
   "source": [
    "jul4 = jul3.drop_duplicates( subset = 'CustomerID').dropna()"
   ]
  },
  {
   "cell_type": "code",
   "execution_count": 89,
   "id": "72048829-771e-40c6-b0fa-b512fea4aed3",
   "metadata": {},
   "outputs": [],
   "source": [
    "jul4.rename( columns = { 'CustomerID' : 'New_Customer'}, inplace = True )"
   ]
  },
  {
   "cell_type": "code",
   "execution_count": null,
   "id": "f5c8e28f-d0ca-413d-a252-735f1b9e47bd",
   "metadata": {},
   "outputs": [],
   "source": []
  },
  {
   "cell_type": "code",
   "execution_count": 90,
   "id": "5c8c1aff-c284-46bb-a8a2-bf14de92ca7c",
   "metadata": {},
   "outputs": [],
   "source": [
    "cust8 = ret.loc[ ret.InvoiceDate < '2011-08-01', 'CustomerID' ].unique()"
   ]
  },
  {
   "cell_type": "code",
   "execution_count": 91,
   "id": "b7dfae0b-1a5f-45c2-af89-4f0793ae6b8e",
   "metadata": {},
   "outputs": [],
   "source": [
    "aug1 = ret.loc[ ret.CustomerID.isin( cust8) & ( ret.InvoiceDate >= '2011-08-01' ) & ( ret.InvoiceDate < '2011-09-01' ), \n",
    "                                                                [ 'Year', 'month', 'CustomerID'] ]"
   ]
  },
  {
   "cell_type": "code",
   "execution_count": 92,
   "id": "0cbadea3-41aa-439a-8240-1d628cd6e60e",
   "metadata": {},
   "outputs": [],
   "source": [
    "aug2 = aug1.drop_duplicates( subset = 'CustomerID').dropna()"
   ]
  },
  {
   "cell_type": "code",
   "execution_count": 93,
   "id": "30f99def-a302-4aaf-b600-d6fd9494c180",
   "metadata": {},
   "outputs": [],
   "source": [
    "aug2.rename( columns = { 'CustomerID' : 'Return_Customer'}, inplace = True )"
   ]
  },
  {
   "cell_type": "code",
   "execution_count": 94,
   "id": "a524e3f1-d6be-4451-bf30-0e4a640a8756",
   "metadata": {},
   "outputs": [],
   "source": [
    "aug3 = ret.loc[ (~ret.CustomerID.isin( cust8)) & ( ret.InvoiceDate >= '2011-08-01' ) & ( ret.InvoiceDate < '2011-09-01' ), \n",
    "                                                                [ 'Year', 'month', 'CustomerID'] ]"
   ]
  },
  {
   "cell_type": "code",
   "execution_count": 95,
   "id": "08696460-514d-4f38-a504-ffde4c2acf83",
   "metadata": {},
   "outputs": [],
   "source": [
    "aug4 = aug3.drop_duplicates( subset = 'CustomerID').dropna()"
   ]
  },
  {
   "cell_type": "code",
   "execution_count": 96,
   "id": "6b3e0186-164c-4bc9-a5ce-92c0d011103b",
   "metadata": {},
   "outputs": [],
   "source": [
    "aug4.rename( columns = { 'CustomerID' : 'New_Customer'}, inplace = True )"
   ]
  },
  {
   "cell_type": "code",
   "execution_count": null,
   "id": "9af9e5a5-d46d-4217-a294-275d9774205f",
   "metadata": {},
   "outputs": [],
   "source": []
  },
  {
   "cell_type": "code",
   "execution_count": 97,
   "id": "1347663e-661d-487d-aa82-c7c08e503505",
   "metadata": {},
   "outputs": [],
   "source": [
    "cust9 = ret.loc[ ret.InvoiceDate < '2011-09-01', 'CustomerID' ].unique()"
   ]
  },
  {
   "cell_type": "code",
   "execution_count": 98,
   "id": "55e4dcd3-30b9-48ff-b2c2-da5ee5eae63c",
   "metadata": {},
   "outputs": [],
   "source": [
    "sep1 = ret.loc[ ret.CustomerID.isin( cust9) & ( ret.InvoiceDate >= '2011-09-01' ) & ( ret.InvoiceDate < '2011-10-01' ), \n",
    "                                                                [ 'Year', 'month', 'CustomerID'] ]"
   ]
  },
  {
   "cell_type": "code",
   "execution_count": 99,
   "id": "b5d1870b-0ffe-416b-af04-c7ea10798ebf",
   "metadata": {},
   "outputs": [],
   "source": [
    "sep2 = sep1.drop_duplicates( subset = 'CustomerID').dropna()"
   ]
  },
  {
   "cell_type": "code",
   "execution_count": 100,
   "id": "d42033c7-d174-4289-8780-c0b873b82318",
   "metadata": {},
   "outputs": [],
   "source": [
    "sep2.rename( columns = { 'CustomerID' : 'Return_Customer'}, inplace = True )"
   ]
  },
  {
   "cell_type": "code",
   "execution_count": 101,
   "id": "4d340f91-b224-4fd5-a3ad-9879487c6243",
   "metadata": {},
   "outputs": [],
   "source": [
    "sep3 = ret.loc[ (~ret.CustomerID.isin( cust9)) & ( ret.InvoiceDate >= '2011-09-01' ) & ( ret.InvoiceDate < '2011-10-01' ), \n",
    "                                                                [ 'Year', 'month', 'CustomerID'] ]"
   ]
  },
  {
   "cell_type": "code",
   "execution_count": 102,
   "id": "19b1a27f-a054-4e45-a56a-a0e78d632389",
   "metadata": {},
   "outputs": [],
   "source": [
    "sep4 = sep3.drop_duplicates( subset = 'CustomerID').dropna()"
   ]
  },
  {
   "cell_type": "code",
   "execution_count": 103,
   "id": "c3c38313-8655-4750-a9d4-a3a149ad097c",
   "metadata": {},
   "outputs": [],
   "source": [
    "sep4.rename( columns = { 'CustomerID' : 'New_Customer'}, inplace = True )"
   ]
  },
  {
   "cell_type": "code",
   "execution_count": null,
   "id": "b6ce0e56-33db-4342-bde8-e9e518fba63b",
   "metadata": {},
   "outputs": [],
   "source": []
  },
  {
   "cell_type": "code",
   "execution_count": 104,
   "id": "37dd997b-b0be-4be2-a6ab-d2afe0d967f6",
   "metadata": {},
   "outputs": [],
   "source": [
    "cust10 = ret.loc[ ret.InvoiceDate < '2011-10-01', 'CustomerID' ].unique()"
   ]
  },
  {
   "cell_type": "code",
   "execution_count": 105,
   "id": "94063362-4677-457f-a659-74acfc2c3355",
   "metadata": {},
   "outputs": [],
   "source": [
    "oct1 = ret.loc[ ret.CustomerID.isin( cust10) & ( ret.InvoiceDate >= '2011-10-01' ) & ( ret.InvoiceDate < '2011-11-01' ), \n",
    "                                                                [ 'Year', 'month', 'CustomerID'] ]"
   ]
  },
  {
   "cell_type": "code",
   "execution_count": 106,
   "id": "204d2a6a-393a-406d-bcd8-e5022707ab76",
   "metadata": {},
   "outputs": [],
   "source": [
    "oct2 = oct1.drop_duplicates( subset = 'CustomerID').dropna()"
   ]
  },
  {
   "cell_type": "code",
   "execution_count": 107,
   "id": "39862be3-8743-4475-86a8-eb6de09b81bb",
   "metadata": {},
   "outputs": [],
   "source": [
    "oct2.rename( columns = { 'CustomerID' : 'Return_Customer'}, inplace = True )"
   ]
  },
  {
   "cell_type": "code",
   "execution_count": 108,
   "id": "debe0242-0ab7-4dfd-a6e2-7f826a936ad5",
   "metadata": {},
   "outputs": [],
   "source": [
    "oct3 = ret.loc[ (~ret.CustomerID.isin( cust10)) & ( ret.InvoiceDate >= '2011-10-01' ) & ( ret.InvoiceDate < '2011-11-01' ), \n",
    "                                                                [ 'Year', 'month', 'CustomerID'] ]"
   ]
  },
  {
   "cell_type": "code",
   "execution_count": 109,
   "id": "322e4f4d-160c-4dd9-bc78-40685a974f0b",
   "metadata": {},
   "outputs": [],
   "source": [
    "oct4 = oct3.drop_duplicates( subset = 'CustomerID').dropna()"
   ]
  },
  {
   "cell_type": "code",
   "execution_count": 110,
   "id": "baae0aa6-8637-4158-a6c4-19b176ff1ab9",
   "metadata": {},
   "outputs": [],
   "source": [
    "oct4.rename( columns = { 'CustomerID' : 'New_Customer'}, inplace = True )"
   ]
  },
  {
   "cell_type": "code",
   "execution_count": null,
   "id": "7caa9e74-3a18-4683-88b1-62f5ef77d8e0",
   "metadata": {},
   "outputs": [],
   "source": []
  },
  {
   "cell_type": "code",
   "execution_count": 111,
   "id": "1ffe5032-611f-4b48-abf8-bd1f4097f709",
   "metadata": {},
   "outputs": [],
   "source": [
    "cust11 = ret.loc[ ret.InvoiceDate < '2011-11-01', 'CustomerID' ].unique()"
   ]
  },
  {
   "cell_type": "code",
   "execution_count": 112,
   "id": "4f03c72a-5f19-49ab-8aaa-4e59b0713af8",
   "metadata": {},
   "outputs": [],
   "source": [
    "nov1 = ret.loc[ ret.CustomerID.isin( cust11) & ( ret.InvoiceDate >= '2011-11-01' ) & ( ret.InvoiceDate < '2011-12-01' ), \n",
    "                                                                [ 'Year', 'month', 'CustomerID'] ]"
   ]
  },
  {
   "cell_type": "code",
   "execution_count": 113,
   "id": "2bcc7284-b311-4362-9b61-c00515b4cfd1",
   "metadata": {},
   "outputs": [],
   "source": [
    "nov2 = nov1.drop_duplicates( subset = 'CustomerID').dropna()"
   ]
  },
  {
   "cell_type": "code",
   "execution_count": 114,
   "id": "f7125e03-b42a-47d9-93ce-fa3c42a2a558",
   "metadata": {},
   "outputs": [],
   "source": [
    "nov2.rename( columns = { 'CustomerID' : 'Return_Customer'}, inplace = True )"
   ]
  },
  {
   "cell_type": "code",
   "execution_count": 115,
   "id": "f492ac75-afe7-4b86-bd82-888c61c52bb1",
   "metadata": {},
   "outputs": [],
   "source": [
    "nov3 = ret.loc[ (~ret.CustomerID.isin( cust11)) & ( ret.InvoiceDate >= '2011-11-01' ) & ( ret.InvoiceDate < '2011-12-01' ), \n",
    "                                                                [ 'Year', 'month', 'CustomerID'] ]"
   ]
  },
  {
   "cell_type": "code",
   "execution_count": 116,
   "id": "fe30fca7-f269-4d40-8b5f-b7a4d8ef4c0b",
   "metadata": {},
   "outputs": [],
   "source": [
    "nov4 = nov3.drop_duplicates( subset = 'CustomerID').dropna()"
   ]
  },
  {
   "cell_type": "code",
   "execution_count": 117,
   "id": "e94c4e41-1453-4e4f-89ff-200a91479217",
   "metadata": {},
   "outputs": [],
   "source": [
    "nov4.rename( columns = { 'CustomerID' : 'New_Customer'}, inplace = True )"
   ]
  },
  {
   "cell_type": "code",
   "execution_count": null,
   "id": "071a00b5-74a2-41ce-900f-e4765b2f1908",
   "metadata": {},
   "outputs": [],
   "source": []
  },
  {
   "cell_type": "code",
   "execution_count": 118,
   "id": "0609c522-9d05-4d82-bf0a-30cadd37528b",
   "metadata": {},
   "outputs": [],
   "source": [
    "cust12 = ret.loc[ ret.InvoiceDate < '2011-12-01', 'CustomerID' ].unique()"
   ]
  },
  {
   "cell_type": "code",
   "execution_count": 119,
   "id": "c4d5b55f-fc48-40d7-97b9-1bc5f98446df",
   "metadata": {},
   "outputs": [],
   "source": [
    "dec1 = ret.loc[ ret.CustomerID.isin( cust12) & ( ret.InvoiceDate >= '2011-12-01' ) & ( ret.InvoiceDate < '2012-01-01' ), \n",
    "                                                                [ 'Year', 'month', 'CustomerID'] ]"
   ]
  },
  {
   "cell_type": "code",
   "execution_count": 120,
   "id": "0c28ab47-3e25-436f-8cd6-b36bd70dbc9a",
   "metadata": {},
   "outputs": [],
   "source": [
    "dec2 = dec1.drop_duplicates( subset = 'CustomerID').dropna()"
   ]
  },
  {
   "cell_type": "code",
   "execution_count": 121,
   "id": "92e5f7a6-7afb-48fd-9450-ee25fe84c406",
   "metadata": {},
   "outputs": [],
   "source": [
    "dec2.rename( columns = { 'CustomerID' : 'Return_Customer'}, inplace = True )"
   ]
  },
  {
   "cell_type": "code",
   "execution_count": 122,
   "id": "6eecf7f8-fa4b-4521-bb0b-92116753375c",
   "metadata": {},
   "outputs": [],
   "source": [
    "dec3 = ret.loc[ (~ret.CustomerID.isin( cust12)) & ( ret.InvoiceDate >= '2011-12-01' ) & ( ret.InvoiceDate < '2012-01-01' ), \n",
    "                                                                [ 'Year', 'month', 'CustomerID'] ]"
   ]
  },
  {
   "cell_type": "code",
   "execution_count": 123,
   "id": "8056d28d-ce58-4dbe-be9d-945502a305f8",
   "metadata": {},
   "outputs": [],
   "source": [
    "dec4 = dec3.drop_duplicates( subset = 'CustomerID').dropna()"
   ]
  },
  {
   "cell_type": "code",
   "execution_count": 124,
   "id": "7ddf9ad8-23b5-4ddc-948d-38e86f3260e9",
   "metadata": {},
   "outputs": [],
   "source": [
    "dec4.rename( columns = { 'CustomerID' : 'New_Customer'}, inplace = True )"
   ]
  },
  {
   "cell_type": "code",
   "execution_count": null,
   "id": "107ed635-de61-4ae7-8a6f-02374904781d",
   "metadata": {},
   "outputs": [],
   "source": []
  },
  {
   "cell_type": "code",
   "execution_count": null,
   "id": "6dc92f45-416a-41e2-99d1-daf7aa5f4a63",
   "metadata": {},
   "outputs": [],
   "source": []
  },
  {
   "cell_type": "code",
   "execution_count": 125,
   "id": "0dab9bb3-44aa-48cc-833f-fef848fc0052",
   "metadata": {},
   "outputs": [],
   "source": [
    "return_cust = pd.concat( [ jan2, feb2, mar2, apr2, may2, jun2, jul2, aug2, sep2, oct2, nov2, dec2 ], ignore_index = True)"
   ]
  },
  {
   "cell_type": "code",
   "execution_count": 126,
   "id": "7e439649-6b96-4ab0-8bc8-a380cd98af40",
   "metadata": {},
   "outputs": [
    {
     "data": {
      "text/html": [
       "<div>\n",
       "<style scoped>\n",
       "    .dataframe tbody tr th:only-of-type {\n",
       "        vertical-align: middle;\n",
       "    }\n",
       "\n",
       "    .dataframe tbody tr th {\n",
       "        vertical-align: top;\n",
       "    }\n",
       "\n",
       "    .dataframe thead th {\n",
       "        text-align: right;\n",
       "    }\n",
       "</style>\n",
       "<table border=\"1\" class=\"dataframe\">\n",
       "  <thead>\n",
       "    <tr style=\"text-align: right;\">\n",
       "      <th></th>\n",
       "      <th></th>\n",
       "      <th>Return_customers</th>\n",
       "    </tr>\n",
       "    <tr>\n",
       "      <th>Year</th>\n",
       "      <th>month</th>\n",
       "      <th></th>\n",
       "    </tr>\n",
       "  </thead>\n",
       "  <tbody>\n",
       "    <tr>\n",
       "      <th rowspan=\"12\" valign=\"top\">2011</th>\n",
       "      <th>1</th>\n",
       "      <td>362</td>\n",
       "    </tr>\n",
       "    <tr>\n",
       "      <th>2</th>\n",
       "      <td>418</td>\n",
       "    </tr>\n",
       "    <tr>\n",
       "      <th>3</th>\n",
       "      <td>580</td>\n",
       "    </tr>\n",
       "    <tr>\n",
       "      <th>4</th>\n",
       "      <td>600</td>\n",
       "    </tr>\n",
       "    <tr>\n",
       "      <th>5</th>\n",
       "      <td>800</td>\n",
       "    </tr>\n",
       "    <tr>\n",
       "      <th>6</th>\n",
       "      <td>816</td>\n",
       "    </tr>\n",
       "    <tr>\n",
       "      <th>7</th>\n",
       "      <td>802</td>\n",
       "    </tr>\n",
       "    <tr>\n",
       "      <th>8</th>\n",
       "      <td>813</td>\n",
       "    </tr>\n",
       "    <tr>\n",
       "      <th>9</th>\n",
       "      <td>1004</td>\n",
       "    </tr>\n",
       "    <tr>\n",
       "      <th>10</th>\n",
       "      <td>1073</td>\n",
       "    </tr>\n",
       "    <tr>\n",
       "      <th>11</th>\n",
       "      <td>1390</td>\n",
       "    </tr>\n",
       "    <tr>\n",
       "      <th>12</th>\n",
       "      <td>645</td>\n",
       "    </tr>\n",
       "  </tbody>\n",
       "</table>\n",
       "</div>"
      ],
      "text/plain": [
       "            Return_customers\n",
       "Year month                  \n",
       "2011 1                   362\n",
       "     2                   418\n",
       "     3                   580\n",
       "     4                   600\n",
       "     5                   800\n",
       "     6                   816\n",
       "     7                   802\n",
       "     8                   813\n",
       "     9                  1004\n",
       "     10                 1073\n",
       "     11                 1390\n",
       "     12                  645"
      ]
     },
     "execution_count": 126,
     "metadata": {},
     "output_type": "execute_result"
    }
   ],
   "source": [
    "return_cust.groupby( [ 'Year', 'month'] ).agg( Return_customers = ( 'Return_Customer', 'nunique'))"
   ]
  },
  {
   "cell_type": "code",
   "execution_count": null,
   "id": "23e80156-fe7f-4a71-b3cf-c9da4ad97c17",
   "metadata": {},
   "outputs": [],
   "source": []
  },
  {
   "cell_type": "code",
   "execution_count": 127,
   "id": "cf9b9978-e814-4735-9d37-73f888216b52",
   "metadata": {},
   "outputs": [],
   "source": [
    "nw = pd.concat( [ jan4, feb4, mar4, apr4, may4, jun4, jul4, aug4, sep4, oct4, nov4, dec4 ], ignore_index = True)"
   ]
  },
  {
   "cell_type": "code",
   "execution_count": 128,
   "id": "b4bb43be-458d-431e-a245-1216bf113c1c",
   "metadata": {},
   "outputs": [
    {
     "data": {
      "text/html": [
       "<div>\n",
       "<style scoped>\n",
       "    .dataframe tbody tr th:only-of-type {\n",
       "        vertical-align: middle;\n",
       "    }\n",
       "\n",
       "    .dataframe tbody tr th {\n",
       "        vertical-align: top;\n",
       "    }\n",
       "\n",
       "    .dataframe thead th {\n",
       "        text-align: right;\n",
       "    }\n",
       "</style>\n",
       "<table border=\"1\" class=\"dataframe\">\n",
       "  <thead>\n",
       "    <tr style=\"text-align: right;\">\n",
       "      <th></th>\n",
       "      <th></th>\n",
       "      <th>New_customers</th>\n",
       "    </tr>\n",
       "    <tr>\n",
       "      <th>Year</th>\n",
       "      <th>month</th>\n",
       "      <th></th>\n",
       "    </tr>\n",
       "  </thead>\n",
       "  <tbody>\n",
       "    <tr>\n",
       "      <th rowspan=\"12\" valign=\"top\">2011</th>\n",
       "      <th>1</th>\n",
       "      <td>421</td>\n",
       "    </tr>\n",
       "    <tr>\n",
       "      <th>2</th>\n",
       "      <td>380</td>\n",
       "    </tr>\n",
       "    <tr>\n",
       "      <th>3</th>\n",
       "      <td>440</td>\n",
       "    </tr>\n",
       "    <tr>\n",
       "      <th>4</th>\n",
       "      <td>299</td>\n",
       "    </tr>\n",
       "    <tr>\n",
       "      <th>5</th>\n",
       "      <td>279</td>\n",
       "    </tr>\n",
       "    <tr>\n",
       "      <th>6</th>\n",
       "      <td>235</td>\n",
       "    </tr>\n",
       "    <tr>\n",
       "      <th>7</th>\n",
       "      <td>191</td>\n",
       "    </tr>\n",
       "    <tr>\n",
       "      <th>8</th>\n",
       "      <td>167</td>\n",
       "    </tr>\n",
       "    <tr>\n",
       "      <th>9</th>\n",
       "      <td>298</td>\n",
       "    </tr>\n",
       "    <tr>\n",
       "      <th>10</th>\n",
       "      <td>352</td>\n",
       "    </tr>\n",
       "    <tr>\n",
       "      <th>11</th>\n",
       "      <td>321</td>\n",
       "    </tr>\n",
       "    <tr>\n",
       "      <th>12</th>\n",
       "      <td>41</td>\n",
       "    </tr>\n",
       "  </tbody>\n",
       "</table>\n",
       "</div>"
      ],
      "text/plain": [
       "            New_customers\n",
       "Year month               \n",
       "2011 1                421\n",
       "     2                380\n",
       "     3                440\n",
       "     4                299\n",
       "     5                279\n",
       "     6                235\n",
       "     7                191\n",
       "     8                167\n",
       "     9                298\n",
       "     10               352\n",
       "     11               321\n",
       "     12                41"
      ]
     },
     "execution_count": 128,
     "metadata": {},
     "output_type": "execute_result"
    }
   ],
   "source": [
    "nw.groupby( [ 'Year', 'month'] ).agg( New_customers = ( 'New_Customer', 'nunique'))"
   ]
  },
  {
   "cell_type": "code",
   "execution_count": null,
   "id": "b832be85-40e2-4c90-b675-75b4c3b91f08",
   "metadata": {},
   "outputs": [],
   "source": []
  },
  {
   "cell_type": "code",
   "execution_count": null,
   "id": "71f80ebf-2c4d-44df-b8ed-d79818ed963b",
   "metadata": {},
   "outputs": [],
   "source": []
  },
  {
   "cell_type": "code",
   "execution_count": null,
   "id": "2681a766-2192-4f71-9316-2620d9e1efe0",
   "metadata": {},
   "outputs": [],
   "source": []
  },
  {
   "cell_type": "code",
   "execution_count": null,
   "id": "518deb68-f670-4f2d-8ddc-5f5f4c14c0ec",
   "metadata": {},
   "outputs": [],
   "source": []
  },
  {
   "cell_type": "code",
   "execution_count": null,
   "id": "fd205c59-6d15-4a04-b424-2c15a653b35e",
   "metadata": {},
   "outputs": [],
   "source": []
  },
  {
   "cell_type": "code",
   "execution_count": null,
   "id": "09797371-a938-4b59-8101-0b56f5b98b73",
   "metadata": {},
   "outputs": [],
   "source": []
  },
  {
   "cell_type": "code",
   "execution_count": null,
   "id": "98a24fdb-d1bc-4e03-a176-a7fb2b3f2d8a",
   "metadata": {},
   "outputs": [],
   "source": []
  }
 ],
 "metadata": {
  "kernelspec": {
   "display_name": "Python 3 (ipykernel)",
   "language": "python",
   "name": "python3"
  },
  "language_info": {
   "codemirror_mode": {
    "name": "ipython",
    "version": 3
   },
   "file_extension": ".py",
   "mimetype": "text/x-python",
   "name": "python",
   "nbconvert_exporter": "python",
   "pygments_lexer": "ipython3",
   "version": "3.12.4"
  }
 },
 "nbformat": 4,
 "nbformat_minor": 5
}
